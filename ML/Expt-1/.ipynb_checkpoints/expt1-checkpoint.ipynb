{
 "cells": [
  {
   "cell_type": "code",
   "execution_count": 38,
   "id": "092fb7ad",
   "metadata": {
    "scrolled": true
   },
   "outputs": [
    {
     "name": "stdout",
     "output_type": "stream",
     "text": [
      "<_csv.reader object at 0x000002E0A25E9240>\n",
      "['Sky', 'Temp', 'Humid', 'Wind', 'Water', 'Forecst', 'EnjoySpt']\n",
      "['Sunny', 'Warm', 'Normal', 'Strong', 'Warm', 'Same', 'Yes']\n",
      "['Sunny', 'Warm', 'High', 'Strong', 'Warm', 'Same', 'Yes']\n",
      "['Rainy', 'Cold', 'HIgh', 'Strong', 'Warm', 'Change', 'No']\n",
      "['Sunny', 'Warm', 'High', 'Strong', 'Cool', 'Change', 'Yes']\n"
     ]
    }
   ],
   "source": [
    "# Read a csv \n",
    "\n",
    "import csv \n",
    "\n",
    "rows = []\n",
    "\n",
    "with open('EnjoySport.csv') as csv_file :\n",
    "    csvread = csv.reader(csv_file,delimiter=',')\n",
    "    print(csvread)\n",
    "    \n",
    "    for row in csvread:\n",
    "        print(row)"
   ]
  },
  {
   "cell_type": "code",
   "execution_count": 66,
   "id": "459c2ff3",
   "metadata": {},
   "outputs": [
    {
     "name": "stdout",
     "output_type": "stream",
     "text": [
      "[['Sunny', 'Warm', 'Normal', 'Strong', 'Warm', 'Same', 'Yes'], ['Sunny', 'Warm', 'High', 'Strong', 'Warm', 'Same', 'Yes'], ['Rainy', 'Cold', 'HIgh', 'Strong', 'Warm', 'Change', 'No'], ['Sunny', 'Warm', 'High', 'Strong', 'Cool', 'Change', 'Yes']]\n"
     ]
    }
   ],
   "source": [
    "instance = []\n",
    "\n",
    "with open('EnjoySport.csv') as csv_file :\n",
    "    csvread = csv.reader(csv_file,delimiter=',')\n",
    "    \n",
    "    for row in csvread:\n",
    "       if(row != ['Sky', 'Temp', 'Humid', 'Wind', 'Water', 'Forecst', 'EnjoySpt'] ):\n",
    "            instance.append(row)\n",
    "print(instance)       "
   ]
  },
  {
   "cell_type": "code",
   "execution_count": 78,
   "id": "5b06cd17",
   "metadata": {},
   "outputs": [
    {
     "name": "stdout",
     "output_type": "stream",
     "text": [
      "3\n",
      "[['Sunny', 'Warm', 'Normal', 'Strong', 'Warm', 'Same', 'Yes'], ['Sunny', 'Warm', 'High', 'Strong', 'Warm', 'Same', 'Yes'], ['Sunny', 'Warm', 'High', 'Strong', 'Cool', 'Change', 'Yes']]\n"
     ]
    }
   ],
   "source": [
    "yInstances = 0\n",
    "\n",
    "data = []\n",
    "\n",
    "for i in range(0,4):\n",
    "    if instance[i][len(instance[0])-1] == 'Yes':\n",
    "        yInstances += 1\n",
    "        data.append(instance[i])\n",
    "print(yInstances) \n",
    "print(data)"
   ]
  },
  {
   "cell_type": "code",
   "execution_count": 81,
   "id": "e895df5b",
   "metadata": {},
   "outputs": [
    {
     "name": "stdout",
     "output_type": "stream",
     "text": [
      "The steps of the find-s Algorithm are :\n",
      " ['%', '%', '%', '%', '%', '%']\n",
      "['Sunny', 'Warm', 'Normal', 'Strong', 'Warm', 'Same']\n",
      "['Sunny', 'Warm', '?', 'Strong', 'Warm', 'Same']\n",
      "['Sunny', 'Warm', '?', 'Strong', '?', '?']\n",
      "\n",
      "The maximally specific Find-s hypothesis for the given training examples is :\n",
      "['Sunny', 'Warm', '?', 'Strong', '?', '?']\n"
     ]
    }
   ],
   "source": [
    "hypo = ['%','%','%','%','%','%']\n",
    "\n",
    "totalExamples = len(data)\n",
    "i=0\n",
    "j=0\n",
    "k=0\n",
    "print('The steps of the find-s Algorithm are :\\n',hypo)\n",
    "list = []\n",
    "p=0\n",
    "d=len(data[p])-1\n",
    "for j in range(d):\n",
    "    list.append(data[i][j])\n",
    "hypo=list\n",
    "i=1\n",
    "\n",
    "for i in range(totalExamples):\n",
    "    for k in range(d):\n",
    "        if hypo[k]!=data[i][k]:\n",
    "            hypo[k]='?'\n",
    "            k+=1\n",
    "        else:\n",
    "            hypo[k]\n",
    "    print(hypo)\n",
    "i+=1\n",
    "\n",
    "print(\"\\nThe maximally specific Find-s hypothesis for the given training examples is :\")\n",
    "list=[]\n",
    "\n",
    "for i in range(d):\n",
    "    list.append(hypo[i])\n",
    "print(list)"
   ]
  },
  {
   "cell_type": "code",
   "execution_count": null,
   "id": "049476ca",
   "metadata": {},
   "outputs": [],
   "source": []
  },
  {
   "cell_type": "code",
   "execution_count": null,
   "id": "1efe86fe",
   "metadata": {},
   "outputs": [],
   "source": []
  },
  {
   "cell_type": "code",
   "execution_count": null,
   "id": "4fe7b96c",
   "metadata": {},
   "outputs": [],
   "source": []
  },
  {
   "cell_type": "code",
   "execution_count": null,
   "id": "2b263e1b",
   "metadata": {},
   "outputs": [],
   "source": []
  },
  {
   "cell_type": "code",
   "execution_count": null,
   "id": "3ee442ea",
   "metadata": {},
   "outputs": [],
   "source": []
  }
 ],
 "metadata": {
  "kernelspec": {
   "display_name": "Python 3 (ipykernel)",
   "language": "python",
   "name": "python3"
  },
  "language_info": {
   "codemirror_mode": {
    "name": "ipython",
    "version": 3
   },
   "file_extension": ".py",
   "mimetype": "text/x-python",
   "name": "python",
   "nbconvert_exporter": "python",
   "pygments_lexer": "ipython3",
   "version": "3.10.7"
  }
 },
 "nbformat": 4,
 "nbformat_minor": 5
}

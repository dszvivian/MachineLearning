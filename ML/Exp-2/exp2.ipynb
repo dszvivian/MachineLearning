{
 "cells": [
  {
   "cell_type": "code",
   "execution_count": 7,
   "id": "7953382e",
   "metadata": {},
   "outputs": [
    {
     "name": "stdout",
     "output_type": "stream",
     "text": [
      "<_csv.reader object at 0x000001DDDAA57580>\n",
      "['sunny', 'warm', 'normal', 'strong', 'warm', 'same', 'Yes']\n",
      "['sunny', 'warm', 'high', 'strong', 'warm', 'same', 'Yes']\n",
      "['rainy', 'cold', 'high', 'strong', 'warm', 'change', 'No']\n",
      "['sunny', 'warm', 'high', 'strong', 'cool', 'change', 'Yes']\n",
      "6\n",
      "[['sunny', 'warm', 'normal', 'strong', 'warm', 'same', 'Yes'], ['sunny', 'warm', 'high', 'strong', 'warm', 'same', 'Yes'], ['rainy', 'cold', 'high', 'strong', 'warm', 'change', 'No'], ['sunny', 'warm', 'high', 'strong', 'cool', 'change', 'Yes']]\n"
     ]
    }
   ],
   "source": [
    "# Read a csv \n",
    "\n",
    "import csv \n",
    "\n",
    "x = []\n",
    "\n",
    "with open('EnjoySport.csv') as csv_file :\n",
    "    csvread = csv.reader(csv_file,delimiter=',')\n",
    "    print(csvread)\n",
    "    \n",
    "    for row in csvread:\n",
    "        print(row)\n",
    "        if row[len(row)-1] == \"Yes\" or \"No\":\n",
    "            x.append(row)\n",
    "num_attributes = len(x[0])-1\n",
    "print(num_attributes)\n",
    "print(x)"
   ]
  },
  {
   "cell_type": "code",
   "execution_count": 8,
   "id": "01f2fb16",
   "metadata": {},
   "outputs": [
    {
     "name": "stdout",
     "output_type": "stream",
     "text": [
      "\n",
      " The initial value of hypothesis: \n",
      "\n",
      " The most specific hypothesis S0:  ['%', '%', '%', '%', '%', '%']\n",
      "\n",
      " The most general hypothesis G0:  ['?', '?', '?', '?', '?', '?']\n"
     ]
    }
   ],
   "source": [
    "print(\"\\n The initial value of hypothesis: \")\n",
    "S = ['%']*num_attributes\n",
    "G = ['?']*num_attributes\n",
    "print(\"\\n The most specific hypothesis S0: \",S)\n",
    "print(\"\\n The most general hypothesis G0: \",G)"
   ]
  },
  {
   "cell_type": "code",
   "execution_count": 11,
   "id": "804fa2ca",
   "metadata": {},
   "outputs": [],
   "source": [
    "for j in range(0,num_attributes):\n",
    "    S[j]=x[0][j] "
   ]
  },
  {
   "cell_type": "code",
   "execution_count": 10,
   "id": "58e29659",
   "metadata": {},
   "outputs": [
    {
     "name": "stdout",
     "output_type": "stream",
     "text": [
      "\n",
      "The candidate Elimination  alogoritm Hypotheses Version Space computation\n",
      "\n",
      "-----------------------------------------------------------------------------------\n",
      "For Training Example No:1 the hypothesis is S1  ['sunny', 'warm', 'normal', 'strong', 'warm', 'same']\n",
      "For training Example No: 1 the hypothesis is G1  ['?', '?', '?', '?', '?', '?']\n",
      "-----------------------------------------------------------------------------------\n",
      "For Training Example No:2 the hypothesis is S2  ['sunny', 'warm', '?', 'strong', 'warm', 'same']\n",
      "For training Example No: 2 the hypothesis is G2  ['?', '?', '?', '?', '?', '?']\n",
      "--------------------------------------------------------------------------------------------\n",
      "For training Examples No:3 the hypothesis is S3 ['sunny', 'warm', '?', 'strong', 'warm', 'same']\n",
      "For training Examples No:3 the hypothesis is G3 [['sunny', '?', '?', '?', '?', '?'], ['?', 'warm', '?', '?', '?', '?'], ['?', '?', '?', '?', '?', 'same']]\n",
      "-----------------------------------------------------------------------------------\n",
      "For Training Example No:4 the hypothesis is S4  ['sunny', 'warm', '?', 'strong', '?', '?']\n",
      "For Positive Training Examples No :4 the hypothesis is G4 [['sunny', '?', '?', '?', '?', '?'], ['?', 'warm', '?', '?', '?', '?']]\n"
     ]
    }
   ],
   "source": [
    "print(\"\\nThe candidate Elimination  alogoritm Hypotheses Version Space computation\\n\")\n",
    "\n",
    "gen_hyp=[]\n",
    "\n",
    "for i in range(0,len(x)):\n",
    "    if x[i][num_attributes]==\"Yes\":\n",
    "        for j in range(0,num_attributes):\n",
    "            if x[i][j]!=S[j]:\n",
    "                S[j]=\"?\"\n",
    "        for j in range(0,num_attributes):\n",
    "            for  k in range(1,len(gen_hyp)):\n",
    "                if gen_hyp[k][j]!='?' and gen_hyp[k][j]!=S[j]:\n",
    "                    del gen_hyp[k]\n",
    "                    \n",
    "        print(\"-----------------------------------------------------------------------------------\")\n",
    "        print(\"For Training Example No:{0} the hypothesis is S{0} \".format(i+1),S)\n",
    "        \n",
    "        if(len(gen_hyp)==0):\n",
    "            print(\"For training Example No: {0} the hypothesis is G{0} \".format(i+1),G)\n",
    "        else:\n",
    "            print(\"For Positive Training Examples No :{0} the hypothesis is G{0}\".format(i+1),gen_hyp)\n",
    "            \n",
    "    if x[i][num_attributes]==\"No\":\n",
    "        for j in range(0,num_attributes):\n",
    "            if S[j]!=x[i][j] and S[j]!='?':\n",
    "                G[j]=S[j]\n",
    "                gen_hyp.append(G)\n",
    "                G=['?']*num_attributes\n",
    "        print(\"--------------------------------------------------------------------------------------------\")\n",
    "        print(\"For training Examples No:{0} the hypothesis is S{0}\".format(i+1),S)\n",
    "        print(\"For training Examples No:{0} the hypothesis is G{0}\".format(i+1),gen_hyp)\n"
   ]
  }
 ],
 "metadata": {
  "kernelspec": {
   "display_name": "\"Python/Mu (mu_venv-38-20221226-141923)\"",
   "language": "python",
   "name": "mu_venv-38-20221226-141923"
  },
  "language_info": {
   "codemirror_mode": {
    "name": "ipython",
    "version": 3
   },
   "file_extension": ".py",
   "mimetype": "text/x-python",
   "name": "python",
   "nbconvert_exporter": "python",
   "pygments_lexer": "ipython3",
   "version": "3.8.12"
  }
 },
 "nbformat": 4,
 "nbformat_minor": 5
}

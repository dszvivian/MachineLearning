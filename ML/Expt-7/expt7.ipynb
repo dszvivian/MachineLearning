{
 "cells": [
  {
   "cell_type": "code",
   "execution_count": 2,
   "id": "8fe41596",
   "metadata": {},
   "outputs": [
    {
     "name": "stdout",
     "output_type": "stream",
     "text": [
      "The Dimensions of the dataset (18, 2)\n",
      "0                      I love this sandwich\n",
      "1                  This is an amazing place\n",
      "2        I feel very good about these beers\n",
      "3                      This is my best work\n",
      "4                      What an awesome view\n",
      "5             I do not like this restaurant\n",
      "6                  I am tired of this stuff\n",
      "7                    I can't deal with this\n",
      "8                      He is my sworn enemy\n",
      "9                       My boss is horrible\n",
      "10                 This is an awesome place\n",
      "11    I do not like the taste of this juice\n",
      "12                          I love to dance\n",
      "13        I am sick and tired of this place\n",
      "14                     What a great holiday\n",
      "15           That is a bad locality to stay\n",
      "16           We will have good fun tomorrow\n",
      "17         I went to my enemy's house today\n",
      "Name: message, dtype: object 0     1\n",
      "1     1\n",
      "2     1\n",
      "3     1\n",
      "4     1\n",
      "5     0\n",
      "6     0\n",
      "7     0\n",
      "8     0\n",
      "9     0\n",
      "10    1\n",
      "11    0\n",
      "12    1\n",
      "13    0\n",
      "14    1\n",
      "15    0\n",
      "16    1\n",
      "17    0\n",
      "Name: labelnum, dtype: int64\n",
      "                                  message label  labelnum\n",
      "0                    I love this sandwich   pos         1\n",
      "1                This is an amazing place   pos         1\n",
      "2      I feel very good about these beers   pos         1\n",
      "3                    This is my best work   pos         1\n",
      "4                    What an awesome view   pos         1\n",
      "5           I do not like this restaurant   neg         0\n",
      "6                I am tired of this stuff   neg         0\n",
      "7                  I can't deal with this   neg         0\n",
      "8                    He is my sworn enemy   neg         0\n",
      "9                     My boss is horrible   neg         0\n",
      "10               This is an awesome place   pos         1\n",
      "11  I do not like the taste of this juice   neg         0\n",
      "12                        I love to dance   pos         1\n",
      "13      I am sick and tired of this place   neg         0\n",
      "14                   What a great holiday   pos         1\n",
      "15         That is a bad locality to stay   neg         0\n",
      "16         We will have good fun tomorrow   pos         1\n",
      "17       I went to my enemy's house today   neg         0\n"
     ]
    }
   ],
   "source": [
    "import pandas as pd\n",
    "msg = pd.read_csv('naivetext.csv',names=['message','label'])\n",
    "print(\"The Dimensions of the dataset\",msg.shape)\n",
    "X=msg.message\n",
    "msg['labelnum']=msg.label.map({'pos':1,'neg':0})\n",
    "y=msg.labelnum\n",
    "print(X,y)\n",
    "print(msg)"
   ]
  },
  {
   "cell_type": "code",
   "execution_count": 16,
   "id": "df4a30b5",
   "metadata": {},
   "outputs": [
    {
     "name": "stdout",
     "output_type": "stream",
     "text": [
      "\n",
      " The total number of training data : (13,)\n",
      "\n",
      " The total number of test data: (5,)\n"
     ]
    }
   ],
   "source": [
    "from sklearn.model_selection import train_test_split\n",
    "xtrain,xtest,ytrain,ytest=train_test_split(X,y)\n",
    "print('\\n The total number of training data :',ytrain.shape)\n",
    "print('\\n The total number of test data:',ytest.shape)"
   ]
  },
  {
   "cell_type": "code",
   "execution_count": 17,
   "id": "289edb54",
   "metadata": {},
   "outputs": [],
   "source": [
    "from sklearn.feature_extraction.text import CountVectorizer\n",
    "count_vect = CountVectorizer()\n",
    "xtrain_dtm = count_vect.fit_transform(xtrain)\n",
    "xtest_dtm = count_vect.transform(xtest)"
   ]
  },
  {
   "cell_type": "code",
   "execution_count": 18,
   "id": "dd842a3e",
   "metadata": {},
   "outputs": [
    {
     "name": "stdout",
     "output_type": "stream",
     "text": [
      "  (0, 40)\t1\n",
      "  (0, 35)\t1\n",
      "  (0, 22)\t1\n",
      "  (0, 9)\t1\n",
      "  (0, 17)\t1\n",
      "  (0, 36)\t1\n",
      "  (1, 35)\t1\n",
      "  (1, 21)\t1\n",
      "  (1, 7)\t1\n",
      "  (2, 8)\t1\n",
      "  (2, 23)\t1\n",
      "  (2, 19)\t1\n",
      "  (2, 33)\t1\n",
      "  (2, 26)\t1\n",
      "  (3, 22)\t1\n",
      "  (3, 6)\t1\n",
      "  (3, 18)\t1\n",
      "  (3, 16)\t1\n",
      "  (4, 33)\t1\n",
      "  (4, 0)\t1\n",
      "  (4, 28)\t1\n",
      "  (4, 3)\t1\n",
      "  (4, 34)\t1\n",
      "  (4, 24)\t1\n",
      "  (4, 25)\t1\n",
      "  :\t:\n",
      "  (7, 20)\t1\n",
      "  (7, 29)\t1\n",
      "  (8, 41)\t1\n",
      "  (8, 2)\t1\n",
      "  (8, 4)\t1\n",
      "  (8, 38)\t1\n",
      "  (9, 39)\t1\n",
      "  (9, 42)\t1\n",
      "  (9, 13)\t1\n",
      "  (9, 11)\t1\n",
      "  (9, 10)\t1\n",
      "  (9, 37)\t1\n",
      "  (10, 33)\t1\n",
      "  (10, 18)\t1\n",
      "  (10, 25)\t1\n",
      "  (10, 2)\t1\n",
      "  (10, 1)\t1\n",
      "  (11, 21)\t1\n",
      "  (11, 33)\t1\n",
      "  (11, 27)\t1\n",
      "  (12, 33)\t1\n",
      "  (12, 0)\t1\n",
      "  (12, 34)\t1\n",
      "  (12, 24)\t1\n",
      "  (12, 30)\t1\n"
     ]
    }
   ],
   "source": [
    "print(xtrain_dtm)"
   ]
  },
  {
   "cell_type": "code",
   "execution_count": 19,
   "id": "d3552316",
   "metadata": {},
   "outputs": [],
   "source": [
    "from sklearn.naive_bayes import MultinomialNB\n",
    "clf = MultinomialNB().fit(xtrain_dtm,ytrain)\n",
    "predicted = clf.predict(xtest_dtm)"
   ]
  },
  {
   "cell_type": "code",
   "execution_count": 20,
   "id": "b99fb295",
   "metadata": {},
   "outputs": [
    {
     "name": "stdout",
     "output_type": "stream",
     "text": [
      "\n",
      "Accuracy of the classifier is 0.8\n",
      "\n",
      " Confusion Matrix\n",
      "[[2 0]\n",
      " [1 2]]\n",
      "\n",
      " The value of Precision 1.0\n",
      "\n",
      " The value of Recall 0.6666666666666666\n"
     ]
    }
   ],
   "source": [
    "from sklearn import metrics \n",
    "print('\\nAccuracy of the classifier is',metrics.accuracy_score(ytest,predicted))\n",
    "\n",
    "print('\\n Confusion Matrix')\n",
    "print(metrics.confusion_matrix(ytest,predicted))\n",
    "\n",
    "print('\\n The value of Precision',metrics.precision_score(ytest,predicted))\n",
    "\n",
    "print('\\n The value of Recall',metrics.recall_score(ytest,predicted))"
   ]
  },
  {
   "cell_type": "code",
   "execution_count": 21,
   "id": "8e482b92",
   "metadata": {},
   "outputs": [],
   "source": [
    "docs_new = ['I like this place','My boss is not my saviour']"
   ]
  },
  {
   "cell_type": "code",
   "execution_count": 22,
   "id": "b5021d7d",
   "metadata": {},
   "outputs": [
    {
     "name": "stdout",
     "output_type": "stream",
     "text": [
      "I like this place-->1\n",
      "My boss is not my saviour-->1\n"
     ]
    }
   ],
   "source": [
    "X_new_counts = count_vect.transform(docs_new)\n",
    "predictednew = clf.predict(X_new_counts)\n",
    "for doc, category in zip(docs_new,predictednew):\n",
    "    print('%s-->%s' %(doc,msg.labelnum[category]))"
   ]
  }
 ],
 "metadata": {
  "kernelspec": {
   "display_name": "Python 3 (ipykernel)",
   "language": "python",
   "name": "python3"
  },
  "language_info": {
   "codemirror_mode": {
    "name": "ipython",
    "version": 3
   },
   "file_extension": ".py",
   "mimetype": "text/x-python",
   "name": "python",
   "nbconvert_exporter": "python",
   "pygments_lexer": "ipython3",
   "version": "3.10.8"
  }
 },
 "nbformat": 4,
 "nbformat_minor": 5
}

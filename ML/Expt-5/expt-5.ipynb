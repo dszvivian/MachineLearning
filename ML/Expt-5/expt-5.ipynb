{
 "cells": [
  {
   "cell_type": "code",
   "execution_count": 66,
   "id": "7f562448",
   "metadata": {},
   "outputs": [
    {
     "name": "stdout",
     "output_type": "stream",
     "text": [
      "\n",
      " Givebn Mushrooms DAta set:\n",
      "\n",
      "      class cap-shape cap-surface cap-color bruises odor gill-attachment  \\\n",
      "0        p         x           s         n       t    p               f   \n",
      "1        e         x           s         y       t    a               f   \n",
      "2        e         b           s         w       t    l               f   \n",
      "3        p         x           y         w       t    p               f   \n",
      "4        e         x           s         g       f    n               f   \n",
      "...    ...       ...         ...       ...     ...  ...             ...   \n",
      "8119     e         k           s         n       f    n               a   \n",
      "8120     e         x           s         n       f    n               a   \n",
      "8121     e         f           s         n       f    n               a   \n",
      "8122     p         k           y         n       f    y               f   \n",
      "8123     e         x           s         n       f    n               a   \n",
      "\n",
      "     gill-spacing gill-size gill-color  ... stalk-surface-below-ring  \\\n",
      "0               c         n          k  ...                        s   \n",
      "1               c         b          k  ...                        s   \n",
      "2               c         b          n  ...                        s   \n",
      "3               c         n          n  ...                        s   \n",
      "4               w         b          k  ...                        s   \n",
      "...           ...       ...        ...  ...                      ...   \n",
      "8119            c         b          y  ...                        s   \n",
      "8120            c         b          y  ...                        s   \n",
      "8121            c         b          n  ...                        s   \n",
      "8122            c         n          b  ...                        k   \n",
      "8123            c         b          y  ...                        s   \n",
      "\n",
      "     stalk-color-above-ring stalk-color-below-ring veil-type veil-color  \\\n",
      "0                         w                      w         p          w   \n",
      "1                         w                      w         p          w   \n",
      "2                         w                      w         p          w   \n",
      "3                         w                      w         p          w   \n",
      "4                         w                      w         p          w   \n",
      "...                     ...                    ...       ...        ...   \n",
      "8119                      o                      o         p          o   \n",
      "8120                      o                      o         p          n   \n",
      "8121                      o                      o         p          o   \n",
      "8122                      w                      w         p          w   \n",
      "8123                      o                      o         p          o   \n",
      "\n",
      "     ring-number ring-type spore-print-color population habitat  \n",
      "0              o         p                 k          s       u  \n",
      "1              o         p                 n          n       g  \n",
      "2              o         p                 n          n       m  \n",
      "3              o         p                 k          s       u  \n",
      "4              o         e                 n          a       g  \n",
      "...          ...       ...               ...        ...     ...  \n",
      "8119           o         p                 b          c       l  \n",
      "8120           o         p                 b          v       l  \n",
      "8121           o         p                 b          c       l  \n",
      "8122           o         e                 w          v       l  \n",
      "8123           o         p                 o          c       l  \n",
      "\n",
      "[8124 rows x 23 columns]\n"
     ]
    }
   ],
   "source": [
    "import numpy as np\n",
    "import pandas as pd\n",
    "from pprint import pprint\n",
    "import scipy.stats as sps\n",
    "\n",
    "dataset = pd.read_csv('mushrooms_dataset.csv')\n",
    "print(\"\\n Givebn Mushrooms DAta set:\\n\\n\",dataset)"
   ]
  },
  {
   "cell_type": "code",
   "execution_count": 67,
   "id": "d0cb186d",
   "metadata": {},
   "outputs": [
    {
     "name": "stdout",
     "output_type": "stream",
     "text": [
      "List of attributes:  ['class', 'cap-shape', 'cap-surface', 'cap-color', 'bruises', 'odor', 'gill-attachment', 'gill-spacing', 'gill-size', 'gill-color', 'stalk-shape', 'stalk-root', 'stalk-surface-above-ring', 'stalk-surface-below-ring', 'stalk-color-above-ring', 'stalk-color-below-ring', 'veil-type', 'veil-color', 'ring-number', 'ring-type', 'spore-print-color', 'population', 'habitat']\n",
      "Predicting Attributes: ['cap-shape', 'cap-surface', 'cap-color', 'bruises', 'odor', 'gill-attachment', 'gill-spacing', 'gill-size', 'gill-color', 'stalk-shape', 'stalk-root', 'stalk-surface-above-ring', 'stalk-surface-below-ring', 'stalk-color-above-ring', 'stalk-color-below-ring', 'veil-type', 'veil-color', 'ring-number', 'ring-type', 'spore-print-color', 'population', 'habitat']\n"
     ]
    }
   ],
   "source": [
    "def id3(data_subset,originaldata,attribute_names,target_attribute_name=\"class\",parent_class = None):\n",
    "    if len(np.unique(data_subset[target_attribute_name])) <= 1 :\n",
    "        return np.unique(data_subset[target_attribute_name])[0]\n",
    "    elif len(data_subset)==0:\n",
    "        return np.unique(originaldata[target_attribute_name])[np.argmax(np.unique(originaldata[taget_attribute_name],\n",
    "                                                                                 return_counts = True)[1])]\n",
    "    elif len(attribute_names)==0:\n",
    "        return parent_node_class\n",
    "    else:\n",
    "        parent_node_class = np.unique(data_subset[target_attribute_name])[np.argmax(np.unique(data_subset[target_attribute_name]\n",
    "                                                                                              ,return_counts=True)[1])]\n",
    "        size=int(np.sqrt(len(attribute_names)))\n",
    "        features = np.random.choice(attribute_names,size,replace=False)\n",
    "        item_values = [InfoGain(data_subset,feature,target_attribute_name) for feature in features]\n",
    "        best_feature_index = np.argmax(item_values)\n",
    "        best_feature = features[best_feature_index]\n",
    "        tree = {best_feature:{}}\n",
    "        features = [i for i in features if i != best_feature]\n",
    "        for value in np.unique(data_subset[best_feature]):\n",
    "            value = value\n",
    "            data_subset = data_subset.where(data_subset[best_feature] == value).dropna()\n",
    "            subtree = id3(data_subset,dataset,features,target_attribute_name,parent_node_class)\n",
    "            tree[best_feature][value] = subtree\n",
    "        return(tree)\n",
    "attribute_names = list(dataset.columns)\n",
    "print(\"List of attributes: \",attribute_names)\n",
    "attribute_names.remove('class')\n",
    "print(\"Predicting Attributes:\",attribute_names)\n",
    "        "
   ]
  },
  {
   "cell_type": "code",
   "execution_count": 68,
   "id": "b270ebc6",
   "metadata": {},
   "outputs": [],
   "source": [
    "def entropy(target_col):\n",
    "    elements,counts = np.unique(target_col,return_counts = True)\n",
    "    entropy = np.sum([(-counts[i]/np.sum(counts))*np.log2(counts[i]/np.sum(counts)) for i in range(len(elements))])\n",
    "    return entropy"
   ]
  },
  {
   "cell_type": "code",
   "execution_count": 69,
   "id": "3e4aecfb",
   "metadata": {},
   "outputs": [],
   "source": [
    "def InfoGain(data_subset,split_attribute_name,target_name=\"class\"):\n",
    "    total_entropy = entropy(data_subset[target_name])\n",
    "    vals,counts = np.unique(data_subset[split_attribute_name],return_counts=True)\n",
    "    Weighted_Entropy = np.sum([(counts[i]/np.sum(counts))*entropy(data_subset.where(data_subset[split_attribute_name]==vals[i]).dropna()[target_name])for i in range(len(vals))])\n",
    "    Information_Gain = total_entropy - Weighted_Entropy\n",
    "    return Information_Gain"
   ]
  },
  {
   "cell_type": "code",
   "execution_count": 70,
   "id": "86665bc3",
   "metadata": {},
   "outputs": [],
   "source": [
    "def predict(query,tree,default = 'p'):\n",
    "    for key in list(query.keys()):\n",
    "        if key in list(tree.keys()):\n",
    "            try:\n",
    "                result = tree[key][query[key]]\n",
    "            except:\n",
    "                return default\n",
    "            result = tree[key][query[key]]\n",
    "            if isinstance(result,dict):\n",
    "                return predict(query,result)\n",
    "            else:\n",
    "                return result"
   ]
  },
  {
   "cell_type": "code",
   "execution_count": 71,
   "id": "bd8eae1d",
   "metadata": {},
   "outputs": [],
   "source": [
    "def train_test_split(dataset):\n",
    "    training_data = dataset.iloc[:round(0.75*len(dataset))].reset_index(drop=True)\n",
    "    testing_data = dataset.iloc[round(0.75*len(dataset)):].reset_index(drop=True)\n",
    "    return training_data,testing_data\n",
    "\n",
    "training_data = train_test_split(dataset)[0]\n",
    "testing_data = train_test_split(dataset)[1]"
   ]
  },
  {
   "cell_type": "code",
   "execution_count": 72,
   "id": "89057496",
   "metadata": {},
   "outputs": [],
   "source": [
    "def RandomForest_Train(dataset,number_of_Trees):\n",
    "    random_forest_sub_tree = []\n",
    "    for i in range(number_of_Trees):\n",
    "        bootstrap_sample = dataset.sample(frac=1,replace=True)\n",
    "        bootstrap_training_data = train_test_split(bootstrap_sample)[0].any()\n",
    "        bootstrap_testing_data = train_test_split(bootstrap_sample)[1].any()\n",
    "        target_attribute_name = bootstrap_training_data.drop(labels=['class'])\n",
    "    random_forest_sub_tree.append(id3(bootstrap_training_data,bootstrap_training_data,attribute_names,target_attribute_name,\n",
    "                                     parent_node_class))\n",
    "    return random_forest_sub_tree\n",
    "    random_forest = RandomForest_Train(dataset,50)"
   ]
  },
  {
   "cell_type": "code",
   "execution_count": 73,
   "id": "de725e7f",
   "metadata": {},
   "outputs": [
    {
     "name": "stdout",
     "output_type": "stream",
     "text": [
      "class p\n"
     ]
    }
   ],
   "source": [
    "def RandomForest_Predict(query,random_forest,default='p'):\n",
    "    predictions = []\n",
    "    for tree in random_forest:\n",
    "        predictions.append(predict(query,tree,default))\n",
    "    return sps.mode(predictions)[0][0]\n",
    "    predictions = RandomForest_Predict(query,random_forest)\n",
    "    print('prediction:',prediction)\n",
    "query = testing_data.iloc[0,:].drop('class').to_dict()\n",
    "query_target = testing_data.iloc[0,0]\n",
    "print('class',query_target)"
   ]
  },
  {
   "cell_type": "code",
   "execution_count": 74,
   "id": "c712be0c",
   "metadata": {},
   "outputs": [],
   "source": [
    "def RandomForest_Test(testing_data,random_forest):\n",
    "    for i in range(len(testing_data)):\n",
    "        testing_data['predictions'] = None\n",
    "        query = testing_data.iloc[i,:].drop('class').to_dict()\n",
    "        testing_data.iloc[i,'predictions'] = RandomForest_Predict(query,random_forest,default='p')\n",
    "        accuracy=sum(testing_data['predictions'] == testing_data['class'])/len(testing_data)*100\n",
    "        pprint('The Prediction accuracy is:',sum(testing_data['predictions']))\n",
    "        return accuracy\n",
    "        RandomForest_Test(testing_data,random_forest)"
   ]
  },
  {
   "cell_type": "code",
   "execution_count": 75,
   "id": "5637abe3",
   "metadata": {},
   "outputs": [
    {
     "ename": "IndexError",
     "evalue": "index 0 is out of bounds for axis 0 with size 0",
     "output_type": "error",
     "traceback": [
      "\u001b[1;31m---------------------------------------------------------------------------\u001b[0m",
      "\u001b[1;31mIndexError\u001b[0m                                Traceback (most recent call last)",
      "Cell \u001b[1;32mIn[75], line 1\u001b[0m\n\u001b[1;32m----> 1\u001b[0m tree \u001b[38;5;241m=\u001b[39m \u001b[43mid3\u001b[49m\u001b[43m(\u001b[49m\u001b[43mdataset\u001b[49m\u001b[43m,\u001b[49m\u001b[43mdataset\u001b[49m\u001b[43m,\u001b[49m\u001b[43mattribute_names\u001b[49m\u001b[43m,\u001b[49m\u001b[38;5;124;43m\"\u001b[39;49m\u001b[38;5;124;43mclass\u001b[39;49m\u001b[38;5;124;43m\"\u001b[39;49m\u001b[43m)\u001b[49m\n\u001b[0;32m      2\u001b[0m pprint(tree)\n",
      "Cell \u001b[1;32mIn[67], line 22\u001b[0m, in \u001b[0;36mid3\u001b[1;34m(data_subset, originaldata, attribute_names, target_attribute_name, parent_class)\u001b[0m\n\u001b[0;32m     20\u001b[0m     value \u001b[38;5;241m=\u001b[39m value\n\u001b[0;32m     21\u001b[0m     data_subset \u001b[38;5;241m=\u001b[39m data_subset\u001b[38;5;241m.\u001b[39mwhere(data_subset[best_feature] \u001b[38;5;241m==\u001b[39m value)\u001b[38;5;241m.\u001b[39mdropna()\n\u001b[1;32m---> 22\u001b[0m     subtree \u001b[38;5;241m=\u001b[39m \u001b[43mid3\u001b[49m\u001b[43m(\u001b[49m\u001b[43mdata_subset\u001b[49m\u001b[43m,\u001b[49m\u001b[43mdataset\u001b[49m\u001b[43m,\u001b[49m\u001b[43mfeatures\u001b[49m\u001b[43m,\u001b[49m\u001b[43mtarget_attribute_name\u001b[49m\u001b[43m,\u001b[49m\u001b[43mparent_node_class\u001b[49m\u001b[43m)\u001b[49m\n\u001b[0;32m     23\u001b[0m     tree[best_feature][value] \u001b[38;5;241m=\u001b[39m subtree\n\u001b[0;32m     24\u001b[0m \u001b[38;5;28;01mreturn\u001b[39;00m(tree)\n",
      "Cell \u001b[1;32mIn[67], line 3\u001b[0m, in \u001b[0;36mid3\u001b[1;34m(data_subset, originaldata, attribute_names, target_attribute_name, parent_class)\u001b[0m\n\u001b[0;32m      1\u001b[0m \u001b[38;5;28;01mdef\u001b[39;00m \u001b[38;5;21mid3\u001b[39m(data_subset,originaldata,attribute_names,target_attribute_name\u001b[38;5;241m=\u001b[39m\u001b[38;5;124m\"\u001b[39m\u001b[38;5;124mclass\u001b[39m\u001b[38;5;124m\"\u001b[39m,parent_class \u001b[38;5;241m=\u001b[39m \u001b[38;5;28;01mNone\u001b[39;00m):\n\u001b[0;32m      2\u001b[0m     \u001b[38;5;28;01mif\u001b[39;00m \u001b[38;5;28mlen\u001b[39m(np\u001b[38;5;241m.\u001b[39munique(data_subset[target_attribute_name])) \u001b[38;5;241m<\u001b[39m\u001b[38;5;241m=\u001b[39m \u001b[38;5;241m1\u001b[39m :\n\u001b[1;32m----> 3\u001b[0m         \u001b[38;5;28;01mreturn\u001b[39;00m \u001b[43mnp\u001b[49m\u001b[38;5;241;43m.\u001b[39;49m\u001b[43munique\u001b[49m\u001b[43m(\u001b[49m\u001b[43mdata_subset\u001b[49m\u001b[43m[\u001b[49m\u001b[43mtarget_attribute_name\u001b[49m\u001b[43m]\u001b[49m\u001b[43m)\u001b[49m\u001b[43m[\u001b[49m\u001b[38;5;241;43m0\u001b[39;49m\u001b[43m]\u001b[49m\n\u001b[0;32m      4\u001b[0m     \u001b[38;5;28;01melif\u001b[39;00m \u001b[38;5;28mlen\u001b[39m(data_subset)\u001b[38;5;241m==\u001b[39m\u001b[38;5;241m0\u001b[39m:\n\u001b[0;32m      5\u001b[0m         \u001b[38;5;28;01mreturn\u001b[39;00m np\u001b[38;5;241m.\u001b[39munique(originaldata[target_attribute_name])[np\u001b[38;5;241m.\u001b[39margmax(np\u001b[38;5;241m.\u001b[39munique(originaldata[taget_attribute_name],\n\u001b[0;32m      6\u001b[0m                                                                                  return_counts \u001b[38;5;241m=\u001b[39m \u001b[38;5;28;01mTrue\u001b[39;00m)[\u001b[38;5;241m1\u001b[39m])]\n",
      "\u001b[1;31mIndexError\u001b[0m: index 0 is out of bounds for axis 0 with size 0"
     ]
    }
   ],
   "source": [
    "tree = id3(dataset,dataset,attribute_names,\"class\")\n",
    "pprint(tree"
   ]
  }
 ],
 "metadata": {
  "kernelspec": {
   "display_name": "Python 3 (ipykernel)",
   "language": "python",
   "name": "python3"
  },
  "language_info": {
   "codemirror_mode": {
    "name": "ipython",
    "version": 3
   },
   "file_extension": ".py",
   "mimetype": "text/x-python",
   "name": "python",
   "nbconvert_exporter": "python",
   "pygments_lexer": "ipython3",
   "version": "3.10.7"
  }
 },
 "nbformat": 4,
 "nbformat_minor": 5
}

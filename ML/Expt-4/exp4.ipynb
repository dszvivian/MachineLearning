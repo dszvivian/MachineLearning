{
 "cells": [
  {
   "cell_type": "code",
   "execution_count": 71,
   "id": "0e21b8fb",
   "metadata": {},
   "outputs": [
    {
     "name": "stdout",
     "output_type": "stream",
     "text": [
      "The Given Play tennis Dataset is\n",
      "\n",
      "    PlayTennis   Outlook Temperature Humidity    Wind\n",
      "0          No     Sunny         Hot     High    Weak\n",
      "1          No     Sunny         Hot     High  Strong\n",
      "2         Yes  Overcast         Hot     High    Weak\n",
      "3         Yes      Rain        Mild     High    Weak\n",
      "4         Yes      Rain        Cool   Normal    Weak\n",
      "5          No      Rain        Cool   Normal  Strong\n",
      "6         Yes  Overcast        Cool   Normal  Strong\n",
      "7          No     Sunny        Mild     High    Weak\n",
      "8         Yes     Sunny        Cool   Normal    Weak\n",
      "9         Yes      Rain        Mild   Normal    Weak\n",
      "10        Yes     Sunny        Mild   Normal  Strong\n",
      "11        Yes  Overcast        Mild     High  Strong\n",
      "12        Yes  Overcast         Hot   Normal    Weak\n",
      "13         No      Rain        Mild     High  Strong\n"
     ]
    }
   ],
   "source": [
    "import pandas as pd\n",
    "\n",
    "df_tennis =  pd.read_csv('playtennis.csv')\n",
    "print(\"The Given Play tennis Dataset is\\n\\n\",df_tennis)"
   ]
  },
  {
   "cell_type": "code",
   "execution_count": 72,
   "id": "da76530f",
   "metadata": {},
   "outputs": [
    {
     "name": "stdout",
     "output_type": "stream",
     "text": [
      "List of Attributes: ['PlayTennis', 'Outlook', 'Temperature', 'Humidity', 'Wind']\n",
      "Predicting Attributes: ['Outlook', 'Temperature', 'Humidity', 'Wind']\n"
     ]
    }
   ],
   "source": [
    "def id3(df,target_attribute_name,attribute_names,default_class=None):\n",
    "    from collections import Counter \n",
    "    cnt = Counter(x for x in df[target_attribute_name])\n",
    "    print(cnt)\n",
    "    if len(cnt) == 1:\n",
    "        print(len(cnt))\n",
    "        return next(iter(cnt))\n",
    "    elif df.empty or (not attribute_names):\n",
    "        return default_class\n",
    "    else:\n",
    "        default_class = max(cnt.keys())\n",
    "        gainz = [information_gain(df,attr,target_attribute_name,attribute_names) for attr in attribute_names]\n",
    "        print(\"Gain=\",gainz)\n",
    "        index_of_max = gainz.index(max(gainz))\n",
    "        best_attr = attribute_names[index_of_max]\n",
    "        print(\"Best attribute:\",best_attr)\n",
    "        tree = {best_attr: {}}\n",
    "        remaining_attribute_names = [i for i in attribute_names if i != best_attr]\n",
    "        \n",
    "        for attr_val, data_subset in df.groupby(best_attr):\n",
    "            subtree = id3(data_subset,\n",
    "                         target_attribute_name,\n",
    "                          remaining_attribute_names,\n",
    "                          default_class\n",
    "                         )\n",
    "            tree[best_attr][attr_val] = subtree\n",
    "        return tree\n",
    "    \n",
    "attribute_names = list(df_tennis.columns)\n",
    "print(\"List of Attributes:\",attribute_names)\n",
    "attribute_names.remove('PlayTennis')\n",
    "print(\"Predicting Attributes:\",attribute_names)"
   ]
  },
  {
   "cell_type": "code",
   "execution_count": 73,
   "id": "524c0406",
   "metadata": {},
   "outputs": [],
   "source": [
    "def entropy(probs):\n",
    "    import math\n",
    "    return sum([-prob*math.log(prob,2) for prob in probs])\n",
    "\n",
    "def entropy_of_list(a_list):\n",
    "    from collections import Counter\n",
    "    cnt = Counter(x for x in a_list)\n",
    "    num_instances = len(a_list)*1.0\n",
    "    probs=[x/num_instances for x in cnt.values()]\n",
    "    return entropy(probs)"
   ]
  },
  {
   "cell_type": "code",
   "execution_count": 74,
   "id": "38c9d379",
   "metadata": {},
   "outputs": [],
   "source": [
    "def information_gain(df,split_attribute_name,target_attribute_name,trace=0):\n",
    "    df_split = df.groupby(split_attribute_name)\n",
    "    nobs = len(df.index) *1.0\n",
    "    df_agg_ent = df_split.agg({target_attribute_name:[entropy_of_list,lambda x:len(x)/nobs]})[target_attribute_name]\n",
    "    df_agg_ent.columns = ['Entropy','PropObservations']\n",
    "    new_entropy = sum(df_agg_ent['Entropy']*df_agg_ent['PropObservations'])\n",
    "    old_entropy = entropy_of_list(df[target_attribute_name])\n",
    "    return old_entropy - new_entropy"
   ]
  },
  {
   "cell_type": "code",
   "execution_count": 76,
   "id": "53c1f7c2",
   "metadata": {},
   "outputs": [
    {
     "name": "stdout",
     "output_type": "stream",
     "text": [
      "Counter({'Yes': 9, 'No': 5})\n",
      "Gain= [0.2467498197744391, 0.029222565658954647, 0.15183550136234136, 0.04812703040826927]\n",
      "Best attribute: Outlook\n",
      "Counter({'Yes': 4})\n",
      "1\n",
      "Counter({'Yes': 3, 'No': 2})\n",
      "Gain= [0.01997309402197489, 0.01997309402197489, 0.9709505944546686]\n",
      "Best attribute: Wind\n",
      "Counter({'No': 2})\n",
      "1\n",
      "Counter({'Yes': 3})\n",
      "1\n",
      "Counter({'No': 3, 'Yes': 2})\n",
      "Gain= [0.5709505944546686, 0.9709505944546686, 0.01997309402197489]\n",
      "Best attribute: Humidity\n",
      "Counter({'No': 3})\n",
      "1\n",
      "Counter({'Yes': 2})\n",
      "1\n",
      "\n",
      "\n",
      "The Resultant Descision Tree is: \n",
      "\n",
      "{'Outlook': {'Overcast': 'Yes',\n",
      "             'Rain': {'Wind': {'Strong': 'No', 'Weak': 'Yes'}},\n",
      "             'Sunny': {'Humidity': {'High': 'No', 'Normal': 'Yes'}}}}\n"
     ]
    }
   ],
   "source": [
    "from pprint import pprint \n",
    "tree = id3(df_tennis,'PlayTennis',attribute_names)\n",
    "print(\"\\n\\nThe Resultant Descision Tree is: \\n\")\n",
    "pprint(tree)"
   ]
  },
  {
   "cell_type": "code",
   "execution_count": 79,
   "id": "16e5b23f",
   "metadata": {},
   "outputs": [],
   "source": [
    "def classify(instance, tree, default=None):\n",
    "    attribute= next(iter(tree))\n",
    "    \n",
    "    if instance[attribute] in tree[attribute].keys():\n",
    "        result = tree[attribute][instance[attribute]]\n",
    "        if isinstance(result,dict):\n",
    "            return classify(instance,result)\n",
    "        else:\n",
    "            return result\n",
    "    else:\n",
    "        return default\n",
    "            "
   ]
  },
  {
   "cell_type": "code",
   "execution_count": 78,
   "id": "bd6ba6b8",
   "metadata": {},
   "outputs": [
    {
     "name": "stdout",
     "output_type": "stream",
     "text": [
      "  predicted2\n",
      "0        Yes\n",
      "1         No\n",
      "2           \n"
     ]
    }
   ],
   "source": [
    "#Classiying a new Sample\n",
    "test_data = pd.read_csv('playtennis_test.csv')\n",
    "test_data['predicted2'] = test_data.apply(classify,axis=1,args=(tree,''))\n",
    "print(test_data[['predicted2']])"
   ]
  }
 ],
 "metadata": {
  "kernelspec": {
   "display_name": "Python 3 (ipykernel)",
   "language": "python",
   "name": "python3"
  },
  "language_info": {
   "codemirror_mode": {
    "name": "ipython",
    "version": 3
   },
   "file_extension": ".py",
   "mimetype": "text/x-python",
   "name": "python",
   "nbconvert_exporter": "python",
   "pygments_lexer": "ipython3",
   "version": "3.10.7"
  }
 },
 "nbformat": 4,
 "nbformat_minor": 5
}

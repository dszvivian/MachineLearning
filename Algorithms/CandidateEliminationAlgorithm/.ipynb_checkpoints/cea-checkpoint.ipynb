{
 "cells": [
  {
   "cell_type": "markdown",
   "id": "f289776d",
   "metadata": {},
   "source": [
    "## Steps\n",
    "\n",
    "- import csv and read file \n",
    "- store both postive as well as negative values in a seperate array\n",
    "- initialize the most specific and most general Hypothesis\n",
    "- substitute the S with first example(ie: as the given first example is Positive)\n",
    "- Algorithm......\n"
   ]
  },
  {
   "cell_type": "code",
   "execution_count": 4,
   "id": "82667514",
   "metadata": {},
   "outputs": [
    {
     "name": "stdout",
     "output_type": "stream",
     "text": [
      "['sunny', 'warm', 'normal', 'strong', 'warm', 'same', 'Yes']\n",
      "['sunny', 'warm', 'high', 'strong', 'warm', 'same', 'Yes']\n",
      "['rainy', 'cold', 'high', 'strong', 'warm', 'change', 'No']\n",
      "['sunny', 'warm', 'high', 'strong', 'cool', 'change', 'Yes']\n",
      "[['sunny', 'warm', 'normal', 'strong', 'warm', 'same', 'Yes'], ['sunny', 'warm', 'high', 'strong', 'warm', 'same', 'Yes'], ['rainy', 'cold', 'high', 'strong', 'warm', 'change', 'No'], ['sunny', 'warm', 'high', 'strong', 'cool', 'change', 'Yes']]\n"
     ]
    }
   ],
   "source": [
    "import csv\n",
    "\n",
    "x = []\n",
    "\n",
    "with open('Enjoysport.csv') as csv_file:\n",
    "    csvread = csv.reader(csv_file, delimiter=',')\n",
    "    \n",
    "    for row in csvread:\n",
    "        print(row)\n",
    "        if(row[len(row)-1].upper() == 'YES' or 'NO'):\n",
    "            x.append(row)\n",
    "\n",
    "print(x)"
   ]
  },
  {
   "cell_type": "code",
   "execution_count": 8,
   "id": "bb7ded23",
   "metadata": {},
   "outputs": [
    {
     "name": "stdout",
     "output_type": "stream",
     "text": [
      "The Most Specific Hypo:  ['%', '%', '%', '%', '%', '%']\n",
      "The Most General Hypo:  ['?', '?', '?', '?', '?', '?']\n"
     ]
    }
   ],
   "source": [
    "num_attributes = len(x[0])-1\n",
    "\n",
    "S = ['%'] * num_attributes\n",
    "G = ['?'] * num_attributes\n",
    "print('eThe Most Specific Hypo: ',S)\n",
    "print('The Most General Hypo: ',G)"
   ]
  },
  {
   "cell_type": "code",
   "execution_count": 12,
   "id": "33277050",
   "metadata": {},
   "outputs": [
    {
     "name": "stdout",
     "output_type": "stream",
     "text": [
      "After 1st Training Example: --> S:  ['sunny', 'warm', 'normal', 'strong', 'warm', 'same']  G:  ['?', '?', '?', '?', '?', '?']\n"
     ]
    }
   ],
   "source": [
    "for i in range(0,num_attributes):\n",
    "    S[i] = x[0][i]  \n",
    "    \n",
    "print(\"After 1st Training Example: --> S: \",S,\" G: \",G)"
   ]
  },
  {
   "cell_type": "code",
   "execution_count": 24,
   "id": "618f9d81",
   "metadata": {},
   "outputs": [
    {
     "name": "stdout",
     "output_type": "stream",
     "text": [
      "CEA Version  Space Compution\n",
      "---------------------------------------------\n",
      "For training example no: 1 the hypotheses is S1  ['sunny', 'warm', '?', 'strong', '?', '?']\n",
      "For training example no: 1 the hypotheses is G1  ['?', '?', '?', '?', '?', '?']\n",
      "---------------------------------------------\n",
      "For training example no: 2 the hypotheses is S2  ['sunny', 'warm', '?', 'strong', '?', '?']\n",
      "For training example no: 2 the hypotheses is G2  ['?', '?', '?', '?', '?', '?']\n",
      "-----------------------------------\n",
      "For training example no: 3 the hypotheses is S3  ['sunny', 'warm', '?', 'strong', '?', '?']\n",
      "For training example no: 3 the hypotheses is G3  ['?', '?', '?', '?', '?', '?']\n",
      "---------------------------------------------\n",
      "For training example no: 4 the hypotheses is S4  ['sunny', 'warm', '?', 'strong', '?', '?']\n",
      "For positive training example no: 4 the hypotheses is G4  [['sunny', '?', '?', '?', '?', '?'], ['?', 'warm', '?', '?', '?', '?']]\n"
     ]
    }
   ],
   "source": [
    "print(\"CEA Version  Space Compution\")\n",
    "gen_hyp = [] # need a maintain it seperatley as there are many hypotheses\n",
    "\n",
    "for i in range(0,len(x)):\n",
    "    if x[i][num_attributes] == 'Yes':\n",
    "        #if it dosent match replace it with general term(ie:'?')\n",
    "        for j in range(0,num_attributes):\n",
    "            if x[i][j] != S[j]:\n",
    "                S[j] = '?'\n",
    "        # remove the attributes that are inconsistent\n",
    "        for j in range(0, num_attributes):\n",
    "            for k in range(1,len(gen_hyp)):\n",
    "                if gen_hyp[k][j]!='?' and gen_hyp[k][j]!=S[j]:\n",
    "                    del gen_hyp[k]\n",
    "                \n",
    "        print(\"---------------------------------------------\")\n",
    "        print(\"For training example no: {0} the hypotheses is S{0} \".format(i+1),S)\n",
    "        \n",
    "        if(len(gen_hyp)==0):\n",
    "            print(\"For training example no: {0} the hypotheses is G{0} \".format(i+1),G)\n",
    "        else:\n",
    "            print(\"For positive training example no: {0} the hypotheses is G{0} \".format(i+1),gen_hyp)\n",
    "    \n",
    "    if x[i][num_attributes] == 'No':\n",
    "        # compare it to S if its different from current instance append it \n",
    "        for j in range(0, num_attributes):\n",
    "            if S[j] != x[i][j] and S[j]!='?':\n",
    "                G[j]=S[j]\n",
    "                gen_hyp.append(G)\n",
    "                G = ['?'] * num_attributes\n",
    "        print('-----------------------------------')\n",
    "        print(\"For training example no: {0} the hypotheses is S{0} \".format(i+1),S)\n",
    "        print(\"For training example no: {0} the hypotheses is G{0} \".format(i+1),G)"
   ]
  }
 ],
 "metadata": {
  "kernelspec": {
   "display_name": "Python 3 (ipykernel)",
   "language": "python",
   "name": "python3"
  },
  "language_info": {
   "codemirror_mode": {
    "name": "ipython",
    "version": 3
   },
   "file_extension": ".py",
   "mimetype": "text/x-python",
   "name": "python",
   "nbconvert_exporter": "python",
   "pygments_lexer": "ipython3",
   "version": "3.10.8"
  }
 },
 "nbformat": 4,
 "nbformat_minor": 5
}

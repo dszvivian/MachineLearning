{
 "cells": [
  {
   "cell_type": "markdown",
   "id": "b4295b63",
   "metadata": {},
   "source": [
    "1. Read a csv file without dataframes"
   ]
  },
  {
   "cell_type": "code",
   "execution_count": 2,
   "id": "03ef8a7b",
   "metadata": {},
   "outputs": [
    {
     "name": "stdout",
     "output_type": "stream",
     "text": [
      "['age', 'income', 'student', 'creditrating', 'class']\n",
      "['youth', 'high', 'no', 'fair', 'no']\n",
      "['youth', 'high', 'no', 'excellent', 'no']\n",
      "['middleaged', 'high', 'no', 'fair', 'yes']\n",
      "['senior', 'medium', 'no', 'fair', 'yes']\n",
      "['senior', 'low', 'yes', 'fair', 'yes']\n",
      "['senior', 'low', 'yes', 'excellent', 'no']\n",
      "['middleaged', 'low', 'yes', 'excellent', 'yes']\n",
      "['youth', 'medium', 'no', 'fair', 'no']\n",
      "['youth', 'low', 'yes', 'fair', 'yes']\n",
      "['senior', 'medium', 'yes', 'fair', 'yes']\n",
      "['youth', 'medium', 'yes', 'excellent', 'yes']\n",
      "['middleaged', 'medium', 'no', 'excellent', 'yes']\n",
      "['middleaged', 'low', 'yes', 'fair', 'yes']\n",
      "['senior', 'medium', 'no', 'excellent', 'no']\n",
      "['senior', 'medium', 'no', 'excellent', 'no']\n",
      "['senior', 'medium', 'no', 'excellent', 'no']\n"
     ]
    }
   ],
   "source": [
    "import csv\n",
    "\n",
    "with open('customer(A).csv') as csvfile:\n",
    "    csvread = csv.reader(csvfile,delimiter=',')\n",
    "    \n",
    "    for row in csvread:\n",
    "        print(row)"
   ]
  },
  {
   "cell_type": "markdown",
   "id": "34d67979",
   "metadata": {},
   "source": [
    "2. Read a csv file without dataframes"
   ]
  },
  {
   "cell_type": "code",
   "execution_count": 7,
   "id": "a6006c6b",
   "metadata": {},
   "outputs": [
    {
     "name": "stdout",
     "output_type": "stream",
     "text": [
      "           age  income student creditrating class\n",
      "0        youth    high      no         fair    no\n",
      "1        youth    high      no    excellent    no\n",
      "2   middleaged    high      no         fair   yes\n",
      "3       senior  medium      no         fair   yes\n",
      "4       senior     low     yes         fair   yes\n",
      "5       senior     low     yes    excellent    no\n",
      "6   middleaged     low     yes    excellent   yes\n",
      "7        youth  medium      no         fair    no\n",
      "8        youth     low     yes         fair   yes\n",
      "9       senior  medium     yes         fair   yes\n",
      "10       youth  medium     yes    excellent   yes\n",
      "11  middleaged  medium      no    excellent   yes\n",
      "12  middleaged     low     yes         fair   yes\n",
      "13      senior  medium      no    excellent    no\n",
      "14      senior  medium      no    excellent    no\n",
      "15      senior  medium      no    excellent    no\n"
     ]
    },
    {
     "data": {
      "text/plain": [
       "age             object\n",
       "income          object\n",
       "student         object\n",
       "creditrating    object\n",
       "class           object\n",
       "dtype: object"
      ]
     },
     "execution_count": 7,
     "metadata": {},
     "output_type": "execute_result"
    }
   ],
   "source": [
    "import pandas as pd\n",
    "\n",
    "df = pd.read_csv('customer(A).csv')\n",
    "print(df)"
   ]
  },
  {
   "cell_type": "markdown",
   "id": "bdf1936e",
   "metadata": {},
   "source": [
    "3. Identify which of the columns and their datatypes"
   ]
  },
  {
   "cell_type": "code",
   "execution_count": 9,
   "id": "68b84b42",
   "metadata": {},
   "outputs": [
    {
     "data": {
      "text/plain": [
       "age             object\n",
       "income          object\n",
       "student         object\n",
       "creditrating    object\n",
       "class           object\n",
       "dtype: object"
      ]
     },
     "execution_count": 9,
     "metadata": {},
     "output_type": "execute_result"
    }
   ],
   "source": [
    "df.dtypes"
   ]
  },
  {
   "cell_type": "markdown",
   "id": "617721b5",
   "metadata": {},
   "source": [
    "4. Frequency of each unique value in a column"
   ]
  },
  {
   "cell_type": "code",
   "execution_count": 12,
   "id": "3a13d056",
   "metadata": {},
   "outputs": [
    {
     "data": {
      "text/plain": [
       "age\n",
       "senior        7\n",
       "youth         5\n",
       "middleaged    4\n",
       "Name: count, dtype: int64"
      ]
     },
     "execution_count": 12,
     "metadata": {},
     "output_type": "execute_result"
    }
   ],
   "source": [
    "df['age'].value_counts()"
   ]
  },
  {
   "cell_type": "markdown",
   "id": "ff402229",
   "metadata": {},
   "source": [
    "5. Plot each column graph vertically(bar)"
   ]
  },
  {
   "cell_type": "code",
   "execution_count": 19,
   "id": "3bffe5b1",
   "metadata": {},
   "outputs": [
    {
     "data": {
      "text/plain": [
       "<Axes: xlabel='age'>"
      ]
     },
     "execution_count": 19,
     "metadata": {},
     "output_type": "execute_result"
    },
    {
     "data": {
      "image/png": "[encoded data removed]",
      "text/plain": [
       "<Figure size 640x480 with 1 Axes>"
      ]
     },
     "metadata": {},
     "output_type": "display_data"
    }
   ],
   "source": [
    "import matplotlib.pyplot as plt\n",
    "\n",
    "age = df['age'].value_counts()\n",
    "age.plot.bar()"
   ]
  },
  {
   "cell_type": "markdown",
   "id": "bfb49bfd",
   "metadata": {},
   "source": [
    "6. Identify and Delete Rows that Contain Duplicate Data"
   ]
  },
  {
   "cell_type": "code",
   "execution_count": 25,
   "id": "657145a8",
   "metadata": {},
   "outputs": [
    {
     "name": "stdout",
     "output_type": "stream",
     "text": [
      "Duplicate rows are: \n",
      " 0     False\n",
      "1     False\n",
      "2     False\n",
      "3     False\n",
      "4     False\n",
      "5     False\n",
      "6     False\n",
      "7     False\n",
      "8     False\n",
      "9     False\n",
      "10    False\n",
      "11    False\n",
      "12    False\n",
      "13    False\n",
      "14     True\n",
      "15     True\n",
      "dtype: bool\n",
      "\n",
      "\n",
      "\n",
      "Resultant dataframes after deletion: \n",
      "            age  income student creditrating class\n",
      "0        youth    high      no         fair    no\n",
      "1        youth    high      no    excellent    no\n",
      "2   middleaged    high      no         fair   yes\n",
      "3       senior  medium      no         fair   yes\n",
      "4       senior     low     yes         fair   yes\n",
      "5       senior     low     yes    excellent    no\n",
      "6   middleaged     low     yes    excellent   yes\n",
      "7        youth  medium      no         fair    no\n",
      "8        youth     low     yes         fair   yes\n",
      "9       senior  medium     yes         fair   yes\n",
      "10       youth  medium     yes    excellent   yes\n",
      "11  middleaged  medium      no    excellent   yes\n",
      "12  middleaged     low     yes         fair   yes\n",
      "13      senior  medium      no    excellent    no\n"
     ]
    }
   ],
   "source": [
    "print('Duplicate rows are: \\n',df.duplicated(subset=['age','income','student','creditrating','class']))\n",
    "print('\\n\\n')\n",
    "print(\"Resultant dataframes after deletion: \\n\",df.drop_duplicates())"
   ]
  },
  {
   "cell_type": "markdown",
   "id": "edecc91c",
   "metadata": {},
   "source": [
    "7. Identify and Delete Columns That Contain a Single\n",
    "Value"
   ]
  },
  {
   "cell_type": "code",
   "execution_count": 40,
   "id": "4a696330",
   "metadata": {},
   "outputs": [],
   "source": [
    "# for x, y in df.iteritems():\n",
    "#     if len(df[key].unique())==1:\n",
    "#         print(key)\n",
    "#         del df[key]\n",
    "#     print(df)\n",
    "\n",
    "\n",
    "# iteritems not working in pandas 2.0"
   ]
  },
  {
   "cell_type": "markdown",
   "id": "2df46ad3",
   "metadata": {},
   "source": [
    "8. Transform categorical columns to integer\n",
    "(Adding new feature)"
   ]
  },
  {
   "cell_type": "code",
   "execution_count": 54,
   "id": "80cf8bb0",
   "metadata": {},
   "outputs": [
    {
     "name": "stdout",
     "output_type": "stream",
     "text": [
      "    age  income student creditrating class   high    low  medium\n",
      "0     0    high      no         fair    no   True  False   False\n",
      "1     0    high      no    excellent    no   True  False   False\n",
      "2     0    high      no         fair   yes   True  False   False\n",
      "3     0  medium      no         fair   yes  False  False    True\n",
      "4     0     low     yes         fair   yes  False   True   False\n",
      "5     0     low     yes    excellent    no  False   True   False\n",
      "6     0     low     yes    excellent   yes  False   True   False\n",
      "7     0  medium      no         fair    no  False  False    True\n",
      "8     0     low     yes         fair   yes  False   True   False\n",
      "9     0  medium     yes         fair   yes  False  False    True\n",
      "10    0  medium     yes    excellent   yes  False  False    True\n",
      "11    0  medium      no    excellent   yes  False  False    True\n",
      "12    0     low     yes         fair   yes  False   True   False\n",
      "13    0  medium      no    excellent    no  False  False    True\n",
      "14    0  medium      no    excellent    no  False  False    True\n",
      "15    0  medium      no    excellent    no  False  False    True \n",
      "\n",
      "\n",
      "0     0\n",
      "1     0\n",
      "2     0\n",
      "3     0\n",
      "4     0\n",
      "5     0\n",
      "6     0\n",
      "7     0\n",
      "8     0\n",
      "9     0\n",
      "10    0\n",
      "11    0\n",
      "12    0\n",
      "13    0\n",
      "14    0\n",
      "15    0\n",
      "Name: age, dtype: int64\n"
     ]
    }
   ],
   "source": [
    "transform=pd.get_dummies(df['income'])\n",
    "print(df_new,\"\\n\\n\")\n",
    "\n",
    "df_new['age']=[1 if x=='youth' else 0 for x in df_new['age'] ]\n",
    "print(df_new['age'])"
   ]
  },
  {
   "cell_type": "markdown",
   "id": "95fa16e2",
   "metadata": {},
   "source": [
    "10.View top=3 rows  11.View bottom=3 rows "
   ]
  },
  {
   "cell_type": "code",
   "execution_count": 59,
   "id": "00d456df",
   "metadata": {},
   "outputs": [
    {
     "data": {
      "text/html": [
       "<div>\n",
       "<style scoped>\n",
       "    .dataframe tbody tr th:only-of-type {\n",
       "        vertical-align: middle;\n",
       "    }\n",
       "\n",
       "    .dataframe tbody tr th {\n",
       "        vertical-align: top;\n",
       "    }\n",
       "\n",
       "    .dataframe thead th {\n",
       "        text-align: right;\n",
       "    }\n",
       "</style>\n",
       "<table border=\"1\" class=\"dataframe\">\n",
       "  <thead>\n",
       "    <tr style=\"text-align: right;\">\n",
       "      <th></th>\n",
       "      <th>age</th>\n",
       "      <th>income</th>\n",
       "      <th>student</th>\n",
       "      <th>creditrating</th>\n",
       "      <th>class</th>\n",
       "      <th>high</th>\n",
       "      <th>low</th>\n",
       "      <th>medium</th>\n",
       "    </tr>\n",
       "  </thead>\n",
       "  <tbody>\n",
       "    <tr>\n",
       "      <th>0</th>\n",
       "      <td>0</td>\n",
       "      <td>high</td>\n",
       "      <td>no</td>\n",
       "      <td>fair</td>\n",
       "      <td>no</td>\n",
       "      <td>True</td>\n",
       "      <td>False</td>\n",
       "      <td>False</td>\n",
       "    </tr>\n",
       "    <tr>\n",
       "      <th>1</th>\n",
       "      <td>0</td>\n",
       "      <td>high</td>\n",
       "      <td>no</td>\n",
       "      <td>excellent</td>\n",
       "      <td>no</td>\n",
       "      <td>True</td>\n",
       "      <td>False</td>\n",
       "      <td>False</td>\n",
       "    </tr>\n",
       "    <tr>\n",
       "      <th>2</th>\n",
       "      <td>0</td>\n",
       "      <td>high</td>\n",
       "      <td>no</td>\n",
       "      <td>fair</td>\n",
       "      <td>yes</td>\n",
       "      <td>True</td>\n",
       "      <td>False</td>\n",
       "      <td>False</td>\n",
       "    </tr>\n",
       "  </tbody>\n",
       "</table>\n",
       "</div>"
      ],
      "text/plain": [
       "   age income student creditrating class  high    low  medium\n",
       "0    0   high      no         fair    no  True  False   False\n",
       "1    0   high      no    excellent    no  True  False   False\n",
       "2    0   high      no         fair   yes  True  False   False"
      ]
     },
     "execution_count": 59,
     "metadata": {},
     "output_type": "execute_result"
    }
   ],
   "source": [
    "df_new.head(3)"
   ]
  },
  {
   "cell_type": "code",
   "execution_count": 60,
   "id": "a65fc3ee",
   "metadata": {},
   "outputs": [
    {
     "data": {
      "text/html": [
       "<div>\n",
       "<style scoped>\n",
       "    .dataframe tbody tr th:only-of-type {\n",
       "        vertical-align: middle;\n",
       "    }\n",
       "\n",
       "    .dataframe tbody tr th {\n",
       "        vertical-align: top;\n",
       "    }\n",
       "\n",
       "    .dataframe thead th {\n",
       "        text-align: right;\n",
       "    }\n",
       "</style>\n",
       "<table border=\"1\" class=\"dataframe\">\n",
       "  <thead>\n",
       "    <tr style=\"text-align: right;\">\n",
       "      <th></th>\n",
       "      <th>age</th>\n",
       "      <th>income</th>\n",
       "      <th>student</th>\n",
       "      <th>creditrating</th>\n",
       "      <th>class</th>\n",
       "      <th>high</th>\n",
       "      <th>low</th>\n",
       "      <th>medium</th>\n",
       "    </tr>\n",
       "  </thead>\n",
       "  <tbody>\n",
       "    <tr>\n",
       "      <th>13</th>\n",
       "      <td>0</td>\n",
       "      <td>medium</td>\n",
       "      <td>no</td>\n",
       "      <td>excellent</td>\n",
       "      <td>no</td>\n",
       "      <td>False</td>\n",
       "      <td>False</td>\n",
       "      <td>True</td>\n",
       "    </tr>\n",
       "    <tr>\n",
       "      <th>14</th>\n",
       "      <td>0</td>\n",
       "      <td>medium</td>\n",
       "      <td>no</td>\n",
       "      <td>excellent</td>\n",
       "      <td>no</td>\n",
       "      <td>False</td>\n",
       "      <td>False</td>\n",
       "      <td>True</td>\n",
       "    </tr>\n",
       "    <tr>\n",
       "      <th>15</th>\n",
       "      <td>0</td>\n",
       "      <td>medium</td>\n",
       "      <td>no</td>\n",
       "      <td>excellent</td>\n",
       "      <td>no</td>\n",
       "      <td>False</td>\n",
       "      <td>False</td>\n",
       "      <td>True</td>\n",
       "    </tr>\n",
       "  </tbody>\n",
       "</table>\n",
       "</div>"
      ],
      "text/plain": [
       "    age  income student creditrating class   high    low  medium\n",
       "13    0  medium      no    excellent    no  False  False    True\n",
       "14    0  medium      no    excellent    no  False  False    True\n",
       "15    0  medium      no    excellent    no  False  False    True"
      ]
     },
     "execution_count": 60,
     "metadata": {},
     "output_type": "execute_result"
    }
   ],
   "source": [
    "df_new.tail(3)"
   ]
  },
  {
   "cell_type": "markdown",
   "id": "7c040d16",
   "metadata": {},
   "source": [
    "12. Filtering rows and selecting columns by label"
   ]
  },
  {
   "cell_type": "code",
   "execution_count": 63,
   "id": "0afd0b0e",
   "metadata": {},
   "outputs": [
    {
     "data": {
      "text/plain": [
       "age             youth\n",
       "income           high\n",
       "student            no\n",
       "creditrating     fair\n",
       "class              no\n",
       "Name: 0, dtype: object"
      ]
     },
     "execution_count": 63,
     "metadata": {},
     "output_type": "execute_result"
    }
   ],
   "source": [
    "df.loc[0,:]"
   ]
  },
  {
   "cell_type": "markdown",
   "id": "e14cb4a5",
   "metadata": {},
   "source": [
    "13. Adding a new instance"
   ]
  },
  {
   "cell_type": "code",
   "execution_count": 66,
   "id": "be0a5d7b",
   "metadata": {},
   "outputs": [
    {
     "name": "stdout",
     "output_type": "stream",
     "text": [
      "           age  income student creditrating class high  low medium\n",
      "0            0    high      no         fair    no  1.0  0.0    0.0\n",
      "1            0    high      no    excellent    no  1.0  0.0    0.0\n",
      "2            0    high      no         fair   yes  1.0  0.0    0.0\n",
      "3            0  medium      no         fair   yes  0.0  0.0    1.0\n",
      "4            0     low     yes         fair   yes  0.0  1.0    0.0\n",
      "5            0     low     yes    excellent    no  0.0  1.0    0.0\n",
      "6            0     low     yes    excellent   yes  0.0  1.0    0.0\n",
      "7            0  medium      no         fair    no  0.0  0.0    1.0\n",
      "8            0     low     yes         fair   yes  0.0  1.0    0.0\n",
      "9            0  medium     yes         fair   yes  0.0  0.0    1.0\n",
      "10           0  medium     yes    excellent   yes  0.0  0.0    1.0\n",
      "11           0  medium      no    excellent   yes  0.0  0.0    1.0\n",
      "12           0     low     yes         fair   yes  0.0  1.0    0.0\n",
      "13           0  medium      no    excellent    no  0.0  0.0    1.0\n",
      "14           0  medium      no    excellent    no  0.0  0.0    1.0\n",
      "15           0  medium      no    excellent    no  0.0  0.0    1.0\n",
      "16  sefdjknior    high      No          low    NO  NaN  NaN    NaN\n",
      "17      senior    high      No          low    NO  NaN  NaN    NaN\n",
      "18      senior    high      No          low    NO  NaN  NaN    NaN\n"
     ]
    }
   ],
   "source": [
    "new_row = {'age':'senior','income':'high','student': 'No','creditrating':'low','class':'NO'}\n",
    "df_new.loc[len(df_new)] = new_row\n",
    "print(df_new)"
   ]
  },
  {
   "cell_type": "markdown",
   "id": "d4b80bcd",
   "metadata": {},
   "source": [
    "14. Transform values into bins"
   ]
  },
  {
   "cell_type": "code",
   "execution_count": null,
   "id": "e3bc9b5b",
   "metadata": {},
   "outputs": [],
   "source": []
  }
 ],
 "metadata": {
  "kernelspec": {
   "display_name": "Python 3 (ipykernel)",
   "language": "python",
   "name": "python3"
  },
  "language_info": {
   "codemirror_mode": {
    "name": "ipython",
    "version": 3
   },
   "file_extension": ".py",
   "mimetype": "text/x-python",
   "name": "python",
   "nbconvert_exporter": "python",
   "pygments_lexer": "ipython3",
   "version": "3.10.8"
  }
 },
 "nbformat": 4,
 "nbformat_minor": 5
}

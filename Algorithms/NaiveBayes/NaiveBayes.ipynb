{
 "cells": [
  {
   "cell_type": "markdown",
   "id": "5b103ae4",
   "metadata": {},
   "source": [
    "## Text Processing using Naive Bayes\n",
    "\n",
    "- We cant consider each word in a sentence asa feature \n",
    "- We have to consider only important words\n",
    "- Model cannot process text directly \n",
    "- instead  it is converted into numbers(ie:pipeline)\n",
    "\n",
    "## Steps \n",
    "\n",
    "- Create a Pipeline\n",
    "    - using a library called Natural Language Toolkit (NLTK)\n",
    "        -copus:sample text provided by NLTK(contains sample text)\n"
   ]
  },
  {
   "cell_type": "code",
   "execution_count": 1,
   "id": "078b28d0",
   "metadata": {},
   "outputs": [],
   "source": [
    "import nltk"
   ]
  },
  {
   "cell_type": "code",
   "execution_count": 2,
   "id": "5298dcb7",
   "metadata": {},
   "outputs": [],
   "source": [
    "from nltk.corpus import brown"
   ]
  },
  {
   "cell_type": "code",
   "execution_count": 3,
   "id": "adbf469e",
   "metadata": {},
   "outputs": [
    {
     "data": {
      "text/plain": [
       "['adventure',\n",
       " 'belles_lettres',\n",
       " 'editorial',\n",
       " 'fiction',\n",
       " 'government',\n",
       " 'hobbies',\n",
       " 'humor',\n",
       " 'learned',\n",
       " 'lore',\n",
       " 'mystery',\n",
       " 'news',\n",
       " 'religion',\n",
       " 'reviews',\n",
       " 'romance',\n",
       " 'science_fiction']"
      ]
     },
     "execution_count": 3,
     "metadata": {},
     "output_type": "execute_result"
    }
   ],
   "source": [
    "brown.categories()"
   ]
  },
  {
   "cell_type": "code",
   "execution_count": 4,
   "id": "389c14ee",
   "metadata": {},
   "outputs": [
    {
     "data": {
      "text/plain": [
       "['The', 'Fulton', 'County', 'Grand', 'Jury', 'said', ...]"
      ]
     },
     "execution_count": 4,
     "metadata": {},
     "output_type": "execute_result"
    }
   ],
   "source": [
    "brown.words()"
   ]
  },
  {
   "cell_type": "code",
   "execution_count": 5,
   "id": "d3831d7b",
   "metadata": {},
   "outputs": [],
   "source": [
    "data = brown.sents(categories=[\"news\"])"
   ]
  },
  {
   "cell_type": "code",
   "execution_count": 6,
   "id": "99db21ac",
   "metadata": {},
   "outputs": [
    {
     "data": {
      "text/plain": [
       "['800', 'in', 'Southern', 'New', 'England', ',', 'we', 'have', '60', ';', ';']"
      ]
     },
     "execution_count": 6,
     "metadata": {},
     "output_type": "execute_result"
    }
   ],
   "source": [
    "data[1000]"
   ]
  },
  {
   "cell_type": "markdown",
   "id": "0880799f",
   "metadata": {},
   "source": [
    "## How to prepare Pipeline:\n",
    "\n",
    "- Get the data==> Corpus\n",
    "- Tokenization(breking down : docs-->sentences-->words)\n",
    "    - Stop word removal : removal of unnecessary words like the,in,on\n",
    "- Stemming: Convert different form of same word into single base word\n",
    "    ie: running,ran,run -----> run\n",
    "- Build our Vocab(List of imp words) + assign Nos to each word"
   ]
  },
  {
   "cell_type": "markdown",
   "id": "aaecf654",
   "metadata": {},
   "source": [
    "## Tokenization "
   ]
  },
  {
   "cell_type": "code",
   "execution_count": 7,
   "id": "281361b7",
   "metadata": {},
   "outputs": [],
   "source": [
    "from nltk.tokenize import word_tokenize ,sent_tokenize"
   ]
  },
  {
   "cell_type": "code",
   "execution_count": 8,
   "id": "4d3e0907",
   "metadata": {},
   "outputs": [
    {
     "name": "stdout",
     "output_type": "stream",
     "text": [
      "['\\nIt was a very awesome movie.', 'I really Enjoyed it.Need to watch it again']\n",
      "['Woooow', ',', 'what', 'an', 'amazing', 'movie', '@', 'dszvivian']\n"
     ]
    }
   ],
   "source": [
    "s1 = \"\"\"\n",
    "It was a very awesome movie. I really Enjoyed it.Need to watch it again\n",
    "\"\"\"\n",
    "\n",
    "s2 = \"Woooow, what an amazing movie @dszvivian\"\n",
    "\n",
    "sentz = sent_tokenize(s1)\n",
    "print(sentz)\n",
    "\n",
    "words = word_tokenize(s2)\n",
    "print(words)\n"
   ]
  },
  {
   "cell_type": "markdown",
   "id": "80a7b700",
   "metadata": {},
   "source": [
    "## Stop word removal"
   ]
  },
  {
   "cell_type": "code",
   "execution_count": 9,
   "id": "e8d6aa23",
   "metadata": {},
   "outputs": [],
   "source": [
    "from nltk.corpus import stopwords"
   ]
  },
  {
   "cell_type": "code",
   "execution_count": 10,
   "id": "6925b09f",
   "metadata": {},
   "outputs": [],
   "source": [
    "sw = set(stopwords.words('english'))"
   ]
  },
  {
   "cell_type": "code",
   "execution_count": 11,
   "id": "f4997812",
   "metadata": {},
   "outputs": [],
   "source": [
    "def remove_stopwords(text,stopwords):\n",
    "    useful = [w for w in text if w not in stopwords]    \n",
    "    return useful"
   ]
  },
  {
   "cell_type": "code",
   "execution_count": 12,
   "id": "96893819",
   "metadata": {},
   "outputs": [
    {
     "name": "stdout",
     "output_type": "stream",
     "text": [
      "['Woooow', ',', 'amazing', 'movie', '@', 'dszvivian']\n"
     ]
    }
   ],
   "source": [
    "pptext = remove_stopwords(words,sw)\n",
    "print(pptext)"
   ]
  }
 ],
 "metadata": {
  "kernelspec": {
   "display_name": "Python 3 (ipykernel)",
   "language": "python",
   "name": "python3"
  },
  "language_info": {
   "codemirror_mode": {
    "name": "ipython",
    "version": 3
   },
   "file_extension": ".py",
   "mimetype": "text/x-python",
   "name": "python",
   "nbconvert_exporter": "python",
   "pygments_lexer": "ipython3",
   "version": "3.10.8"
  }
 },
 "nbformat": 4,
 "nbformat_minor": 5
}

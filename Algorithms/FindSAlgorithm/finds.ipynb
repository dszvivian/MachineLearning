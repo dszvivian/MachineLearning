{
 "cells": [
  {
   "cell_type": "code",
   "execution_count": 16,
   "id": "57196c75",
   "metadata": {},
   "outputs": [
    {
     "name": "stdout",
     "output_type": "stream",
     "text": [
      "['Sky', 'AirTemp', 'Humidity', 'Wind', 'Water', 'Forecast', 'EnjoySport']\n",
      "['Sunny', 'Warm', 'Normal', 'Strong', 'Warm', 'Same', '1']\n",
      "['Sunny', 'Warm', 'High', 'Strong', 'Warm', 'Same', '1']\n",
      "['Rainy', 'Cold', 'High', 'Strong', 'Warm', 'Change', '0']\n",
      "['Sunny', 'Warm', 'High', 'Strong', 'Cool', 'Change', '1']\n",
      "Postive List: \n",
      "[['Sunny', 'Warm', 'Normal', 'Strong', 'Warm', 'Same', '1'], ['Sunny', 'Warm', 'High', 'Strong', 'Warm', 'Same', '1'], ['Sunny', 'Warm', 'High', 'Strong', 'Cool', 'Change', '1']]\n"
     ]
    }
   ],
   "source": [
    "import csv\n",
    "\n",
    "\n",
    "positiveList = []\n",
    "with open('ENJOYSPORT.csv') as csv_file:\n",
    "    readcsv = csv.reader(csv_file,delimiter=',')\n",
    "    \n",
    "    for row in readcsv:\n",
    "        print(row)\n",
    "        \n",
    "        if(row[len(row)-1]==\"1\"):\n",
    "            positiveList.append(row)"
   ]
  },
  {
   "cell_type": "code",
   "execution_count": 24,
   "id": "b70ec34f",
   "metadata": {},
   "outputs": [
    {
     "name": "stdout",
     "output_type": "stream",
     "text": [
      "Postive List: \n",
      "['Sunny', 'Warm', 'Normal', 'Strong', 'Warm', 'Same', '1']\n",
      "['Sunny', 'Warm', 'High', 'Strong', 'Warm', 'Same', '1']\n",
      "['Sunny', 'Warm', 'High', 'Strong', 'Cool', 'Change', '1']\n"
     ]
    }
   ],
   "source": [
    "print(\"Postive List: \")\n",
    "for row in positiveList:\n",
    "    print(row)"
   ]
  },
  {
   "cell_type": "code",
   "execution_count": 35,
   "id": "3258cdd1",
   "metadata": {},
   "outputs": [
    {
     "name": "stdout",
     "output_type": "stream",
     "text": [
      "['%', '%', '%', '%', '%', '%']\n",
      "['Sunny', 'Warm', 'Normal', 'Strong', 'Warm', 'Same']\n",
      "['Sunny', 'Warm', '?', 'Strong', 'Warm', 'Same']\n",
      "['Sunny', 'Warm', '?', 'Strong', 'Warm', 'Same']\n",
      "['Sunny', 'Warm', '?', 'Strong', '?', 'Same']\n",
      "['Sunny', 'Warm', '?', 'Strong', '?', '?']\n"
     ]
    }
   ],
   "source": [
    "hypo = ['%','%','%','%','%','%']\n",
    "print(hypo)\n",
    "\n",
    "totalExamples = len(positiveList)\n",
    "d = len(positiveList[0])-1;\n",
    "\n",
    "list = []\n",
    "\n",
    "#copy the first instance so that it can be compared in the next instances \n",
    "for j in range(d):\n",
    "    list.append(positiveList[0][j])\n",
    "hypo=list\n",
    "print(hypo)\n",
    "   \n",
    "i=1\n",
    "for i in range(totalExamples):\n",
    "    for k in range(d):\n",
    "        if(hypo[k]!=positiveList[i][k]):\n",
    "            hypo[k]='?'\n",
    "            print(hypo)\n",
    "            k=k+1\n",
    "        else:\n",
    "            pass\n",
    "    \n",
    "\n",
    "    "
   ]
  }
 ],
 "metadata": {
  "kernelspec": {
   "display_name": "Python 3 (ipykernel)",
   "language": "python",
   "name": "python3"
  },
  "language_info": {
   "codemirror_mode": {
    "name": "ipython",
    "version": 3
   },
   "file_extension": ".py",
   "mimetype": "text/x-python",
   "name": "python",
   "nbconvert_exporter": "python",
   "pygments_lexer": "ipython3",
   "version": "3.10.8"
  }
 },
 "nbformat": 4,
 "nbformat_minor": 5
}

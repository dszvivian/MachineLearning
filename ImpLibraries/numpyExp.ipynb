{
 "cells": [
  {
   "cell_type": "markdown",
   "id": "0f7c20aa",
   "metadata": {},
   "source": [
    "Numpy(Numerical Python)\n",
    "    - Allows faster Mathematical Operations"
   ]
  },
  {
   "cell_type": "code",
   "execution_count": 1,
   "id": "13f32100",
   "metadata": {},
   "outputs": [],
   "source": [
    "import numpy as np"
   ]
  },
  {
   "cell_type": "markdown",
   "id": "61bde09d",
   "metadata": {},
   "source": [
    "List vs Numpy"
   ]
  },
  {
   "cell_type": "code",
   "execution_count": 2,
   "id": "d8ed3737",
   "metadata": {},
   "outputs": [
    {
     "name": "stdout",
     "output_type": "stream",
     "text": [
      "0.015625\n"
     ]
    }
   ],
   "source": [
    "from time import process_time\n",
    "\n",
    "p_List = [i for i in range(10000)]\n",
    "startTime = process_time()\n",
    "p_List = [i+5 for i in range(10000)]\n",
    "endTime = process_time()\n",
    "\n",
    "print(endTime-startTime)"
   ]
  },
  {
   "cell_type": "code",
   "execution_count": 3,
   "id": "e8051664",
   "metadata": {},
   "outputs": [
    {
     "name": "stdout",
     "output_type": "stream",
     "text": [
      "0.0\n"
     ]
    }
   ],
   "source": [
    "npArr = np.array([i for i in range(10000)])\n",
    "npStartTime = process_time()\n",
    "npArr += 5\n",
    "npEndTime = process_time()\n",
    "print(npEndTime-npStartTime)"
   ]
  },
  {
   "cell_type": "markdown",
   "id": "0a09750a",
   "metadata": {},
   "source": [
    "Numpy arrays"
   ]
  },
  {
   "cell_type": "code",
   "execution_count": 7,
   "id": "cad8acb3",
   "metadata": {},
   "outputs": [
    {
     "name": "stdout",
     "output_type": "stream",
     "text": [
      "<class 'list'>\n",
      "<class 'numpy.ndarray'>\n"
     ]
    }
   ],
   "source": [
    "list1 =[1,2,34,5]\n",
    "print(type(list1))\n",
    "\n",
    "nlist = np.array([1,2,3,4,5])\n",
    "print(type(nlist))"
   ]
  },
  {
   "cell_type": "code",
   "execution_count": 11,
   "id": "acc4f320",
   "metadata": {},
   "outputs": [
    {
     "data": {
      "text/plain": [
       "(5,)"
      ]
     },
     "execution_count": 11,
     "metadata": {},
     "output_type": "execute_result"
    }
   ],
   "source": [
    "nlist.shape"
   ]
  },
  {
   "cell_type": "code",
   "execution_count": 17,
   "id": "326be306",
   "metadata": {},
   "outputs": [
    {
     "data": {
      "text/plain": [
       "(2, 5)"
      ]
     },
     "execution_count": 17,
     "metadata": {},
     "output_type": "execute_result"
    }
   ],
   "source": [
    "ndlist = np.array([(1,2,3,4,5),(3,6,4,5,5)])\n",
    "ndlist.shape"
   ]
  },
  {
   "cell_type": "code",
   "execution_count": 19,
   "id": "f76560a6",
   "metadata": {},
   "outputs": [
    {
     "name": "stdout",
     "output_type": "stream",
     "text": [
      "[[1. 2. 3. 4. 5.]\n",
      " [3. 6. 4. 5. 5.]]\n"
     ]
    }
   ],
   "source": [
    "arr1 = np.array([(1,2,3,4,5),(3,6,4,5,5)],dtype=float)\n",
    "print(arr1)"
   ]
  },
  {
   "cell_type": "markdown",
   "id": "1c8e205d",
   "metadata": {},
   "source": [
    "Initialize placeholders in numpy arrays"
   ]
  },
  {
   "cell_type": "code",
   "execution_count": 33,
   "id": "46a225ed",
   "metadata": {},
   "outputs": [
    {
     "name": "stdout",
     "output_type": "stream",
     "text": [
      "[[0. 0. 0.]\n",
      " [0. 0. 0.]\n",
      " [0. 0. 0.]\n",
      " [0. 0. 0.]]\n",
      "[[1. 1. 1.]\n",
      " [1. 1. 1.]\n",
      " [1. 1. 1.]\n",
      " [1. 1. 1.]]\n",
      "[[5 5 5 5 5]\n",
      " [5 5 5 5 5]\n",
      " [5 5 5 5 5]\n",
      " [5 5 5 5 5]]\n",
      "[[1. 0. 0. 0.]\n",
      " [0. 1. 0. 0.]\n",
      " [0. 0. 1. 0.]\n",
      " [0. 0. 0. 1.]]\n",
      "[[0.92478201 0.04763658 0.78222654 0.25160625]\n",
      " [0.98170798 0.76792548 0.12265149 0.56215881]\n",
      " [0.55460927 0.00845885 0.94623618 0.84280308]]\n",
      "[[17 21 35 63 42]\n",
      " [67 55 18 35 50]\n",
      " [13 40 66 31 59]]\n",
      "[ 10.   82.5 155.  227.5 300. ]\n"
     ]
    }
   ],
   "source": [
    "arr2 = np.zeros((4,3))\n",
    "print(arr2)\n",
    "\n",
    "arr3 = np.ones((4,3))\n",
    "print(arr3)\n",
    "\n",
    "#creating an np array in specified value\n",
    "arr4 = np.full((4,5),5)\n",
    "print(arr4)\n",
    "\n",
    "\n",
    "#creating in identity matrix\n",
    "# i.e: In an Identity matrix both the rows and Columns are equal\n",
    "arr5 = np.eye(4) \n",
    "print(arr5)\n",
    "\n",
    "\n",
    "# crteate a np array with random values\n",
    "# i.e: by default th values will be b/w 0-1\n",
    "arr6 = np.random.random((3,4))\n",
    "print(arr6)\n",
    "\n",
    "# random integer value array for specific values\n",
    "arr7 = np.random.randint(10,69,(3,5))\n",
    "print(arr7)\n",
    "\n",
    "# array for evenly spaceed values\n",
    "arr8 = np.linspace(10,300,5)\n",
    "print(arr8)"
   ]
  },
  {
   "cell_type": "markdown",
   "id": "112dbcd0",
   "metadata": {},
   "source": [
    "Analyzing a np array"
   ]
  },
  {
   "cell_type": "code",
   "execution_count": 37,
   "id": "79910330",
   "metadata": {},
   "outputs": [
    {
     "name": "stdout",
     "output_type": "stream",
     "text": [
      "(3, 5)\n",
      "2\n",
      "15\n",
      "int32\n"
     ]
    }
   ],
   "source": [
    "arr10 = np.random.randint(10,69,(3,5))\n",
    "\n",
    "\n",
    "#find array dimensions\n",
    "print(arr10.shape)\n",
    "\n",
    "#find no of dimensions\n",
    "print(arr10.ndim)\n",
    "\n",
    "#find no of elements in an array\n",
    "print(arr10.size)\n",
    "\n",
    "#checking the datatype\n",
    "print(arr10.dtype)"
   ]
  },
  {
   "cell_type": "markdown",
   "id": "1f497436",
   "metadata": {},
   "source": [
    "Mathematical Operations that can be performed in an array"
   ]
  },
  {
   "cell_type": "code",
   "execution_count": 44,
   "id": "71a9a633",
   "metadata": {},
   "outputs": [
    {
     "name": "stdout",
     "output_type": "stream",
     "text": [
      "[15 27 28 67 27]\n",
      "[55 68 32 42 58]\n",
      "[ 70  95  60 109  85]\n",
      "[-40 -41  -4  25 -31]\n",
      "[ 825 1836  896 2814 1566]\n",
      "[0.27272727 0.39705882 0.875      1.5952381  0.46551724]\n",
      "[ 70  95  60 109  85]\n",
      "[-40 -41  -4  25 -31]\n",
      "[ 825 1836  896 2814 1566]\n",
      "[0.27272727 0.39705882 0.875      1.5952381  0.46551724]\n"
     ]
    }
   ],
   "source": [
    "a = np.random.randint(10,69,5)\n",
    "b = np.random.randint(10,69,5)\n",
    "\n",
    "print(a)\n",
    "print(b)\n",
    "\n",
    "# mathematical operaions on elements of two seperate arrays\n",
    "print(a+b)\n",
    "print(a-b)\n",
    "print(a*b)\n",
    "print(a/b)\n",
    "\n",
    "#or \n",
    "\n",
    "print(np.add(a,b))\n",
    "print(np.subtract(a,b))\n",
    "print(np.multiply(a,b))\n",
    "print(np.divide(a,b))\n"
   ]
  },
  {
   "cell_type": "markdown",
   "id": "2fe78e1e",
   "metadata": {},
   "source": [
    "Array manipulation"
   ]
  },
  {
   "cell_type": "code",
   "execution_count": 48,
   "id": "eece77da",
   "metadata": {},
   "outputs": [
    {
     "name": "stdout",
     "output_type": "stream",
     "text": [
      "[[9 5 0 6 1 4 2 4 4 1]\n",
      " [0 0 6 1 4 1 1 1 8 4]]\n",
      "[[9 0]\n",
      " [5 0]\n",
      " [0 6]\n",
      " [6 1]\n",
      " [1 4]\n",
      " [4 1]\n",
      " [2 1]\n",
      " [4 1]\n",
      " [4 8]\n",
      " [1 4]]\n",
      "[[9 0]\n",
      " [5 0]\n",
      " [0 6]\n",
      " [6 1]\n",
      " [1 4]\n",
      " [4 1]\n",
      " [2 1]\n",
      " [4 1]\n",
      " [4 8]\n",
      " [1 4]]\n"
     ]
    }
   ],
   "source": [
    "array = np.random.randint(0,10,(2,10))\n",
    "print(array)\n",
    "\n",
    "#find transpose of a matrix\n",
    "trans = np.transpose(array)\n",
    "print(trans)\n",
    "\n",
    "#or \n",
    "\n",
    "trans2 = array.T\n",
    "print(trans2)"
   ]
  },
  {
   "cell_type": "markdown",
   "id": "4c41a253",
   "metadata": {},
   "source": [
    "Reshaping a array"
   ]
  },
  {
   "cell_type": "code",
   "execution_count": 50,
   "id": "b7740850",
   "metadata": {},
   "outputs": [
    {
     "name": "stdout",
     "output_type": "stream",
     "text": [
      "[[9 0]\n",
      " [5 0]\n",
      " [0 6]\n",
      " [6 1]\n",
      " [1 4]\n",
      " [4 1]\n",
      " [2 1]\n",
      " [4 1]\n",
      " [4 8]\n",
      " [1 4]]\n"
     ]
    }
   ],
   "source": [
    "b = trans2.reshape(10,2)\n",
    "print(b)"
   ]
  }
 ],
 "metadata": {
  "kernelspec": {
   "display_name": "Python 3 (ipykernel)",
   "language": "python",
   "name": "python3"
  },
  "language_info": {
   "codemirror_mode": {
    "name": "ipython",
    "version": 3
   },
   "file_extension": ".py",
   "mimetype": "text/x-python",
   "name": "python",
   "nbconvert_exporter": "python",
   "pygments_lexer": "ipython3",
   "version": "3.10.8"
  }
 },
 "nbformat": 4,
 "nbformat_minor": 5
}

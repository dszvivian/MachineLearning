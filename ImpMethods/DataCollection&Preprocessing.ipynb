{
 "cells": [
  {
   "cell_type": "markdown",
   "id": "344831f9",
   "metadata": {},
   "source": [
    "#### Where do we get data from ???\n",
    "    - Kaggle\n",
    "    - UCI ML Repository\n",
    "    - Google Dataset Search"
   ]
  },
  {
   "cell_type": "code",
   "execution_count": 2,
   "id": "efb551c0",
   "metadata": {},
   "outputs": [
    {
     "data": {
      "text/html": [
       "<div>\n",
       "<style scoped>\n",
       "    .dataframe tbody tr th:only-of-type {\n",
       "        vertical-align: middle;\n",
       "    }\n",
       "\n",
       "    .dataframe tbody tr th {\n",
       "        vertical-align: top;\n",
       "    }\n",
       "\n",
       "    .dataframe thead th {\n",
       "        text-align: right;\n",
       "    }\n",
       "</style>\n",
       "<table border=\"1\" class=\"dataframe\">\n",
       "  <thead>\n",
       "    <tr style=\"text-align: right;\">\n",
       "      <th></th>\n",
       "      <th>0.00632  18.00   2.310  0  0.5380  6.5750  65.20  4.0900   1  296.0  15.30 396.90   4.98  24.00</th>\n",
       "    </tr>\n",
       "  </thead>\n",
       "  <tbody>\n",
       "    <tr>\n",
       "      <th>0</th>\n",
       "      <td>0.02731   0.00   7.070  0  0.4690  6.4210  78...</td>\n",
       "    </tr>\n",
       "    <tr>\n",
       "      <th>1</th>\n",
       "      <td>0.02729   0.00   7.070  0  0.4690  7.1850  61...</td>\n",
       "    </tr>\n",
       "    <tr>\n",
       "      <th>2</th>\n",
       "      <td>0.03237   0.00   2.180  0  0.4580  6.9980  45...</td>\n",
       "    </tr>\n",
       "    <tr>\n",
       "      <th>3</th>\n",
       "      <td>0.06905   0.00   2.180  0  0.4580  7.1470  54...</td>\n",
       "    </tr>\n",
       "    <tr>\n",
       "      <th>4</th>\n",
       "      <td>0.02985   0.00   2.180  0  0.4580  6.4300  58...</td>\n",
       "    </tr>\n",
       "  </tbody>\n",
       "</table>\n",
       "</div>"
      ],
      "text/plain": [
       "   0.00632  18.00   2.310  0  0.5380  6.5750  65.20  4.0900   1  296.0  15.30 396.90   4.98  24.00\n",
       "0   0.02731   0.00   7.070  0  0.4690  6.4210  78...                                              \n",
       "1   0.02729   0.00   7.070  0  0.4690  7.1850  61...                                              \n",
       "2   0.03237   0.00   2.180  0  0.4580  6.9980  45...                                              \n",
       "3   0.06905   0.00   2.180  0  0.4580  7.1470  54...                                              \n",
       "4   0.02985   0.00   2.180  0  0.4580  6.4300  58...                                              "
      ]
     },
     "execution_count": 2,
     "metadata": {},
     "output_type": "execute_result"
    }
   ],
   "source": [
    "import pandas as pd\n",
    "\n",
    "ds1 = pd.read_csv('housing.csv')\n",
    "ds1.head()"
   ]
  },
  {
   "cell_type": "markdown",
   "id": "9c0615f4",
   "metadata": {},
   "source": [
    "#### import ds from kaggle api\n",
    "\n",
    "    - really helpfull while import large datasets"
   ]
  },
  {
   "cell_type": "code",
   "execution_count": 4,
   "id": "56ffd044",
   "metadata": {},
   "outputs": [
    {
     "name": "stdout",
     "output_type": "stream",
     "text": [
      "Requirement already satisfied: kaggle in c:\\users\\dszvi\\appdata\\local\\programs\\python\\python310\\lib\\site-packages (1.5.13)\n",
      "Requirement already satisfied: urllib3 in c:\\users\\dszvi\\appdata\\local\\programs\\python\\python310\\lib\\site-packages (from kaggle) (1.26.14)\n",
      "Requirement already satisfied: tqdm in c:\\users\\dszvi\\appdata\\local\\programs\\python\\python310\\lib\\site-packages (from kaggle) (4.65.0)\n",
      "Requirement already satisfied: python-slugify in c:\\users\\dszvi\\appdata\\local\\programs\\python\\python310\\lib\\site-packages (from kaggle) (8.0.1)\n",
      "Requirement already satisfied: certifi in c:\\users\\dszvi\\appdata\\local\\programs\\python\\python310\\lib\\site-packages (from kaggle) (2022.12.7)\n",
      "Requirement already satisfied: six>=1.10 in c:\\users\\dszvi\\appdata\\local\\programs\\python\\python310\\lib\\site-packages (from kaggle) (1.16.0)\n",
      "Requirement already satisfied: requests in c:\\users\\dszvi\\appdata\\local\\programs\\python\\python310\\lib\\site-packages (from kaggle) (2.30.0)\n",
      "Requirement already satisfied: python-dateutil in c:\\users\\dszvi\\appdata\\roaming\\python\\python310\\site-packages (from kaggle) (2.8.2)\n",
      "Requirement already satisfied: text-unidecode>=1.3 in c:\\users\\dszvi\\appdata\\local\\programs\\python\\python310\\lib\\site-packages (from python-slugify->kaggle) (1.3)\n",
      "Requirement already satisfied: charset-normalizer<4,>=2 in c:\\users\\dszvi\\appdata\\local\\programs\\python\\python310\\lib\\site-packages (from requests->kaggle) (3.1.0)\n",
      "Requirement already satisfied: idna<4,>=2.5 in c:\\users\\dszvi\\appdata\\local\\programs\\python\\python310\\lib\\site-packages (from requests->kaggle) (3.4)\n",
      "Requirement already satisfied: colorama in c:\\users\\dszvi\\appdata\\roaming\\python\\python310\\site-packages (from tqdm->kaggle) (0.4.6)\n"
     ]
    },
    {
     "name": "stderr",
     "output_type": "stream",
     "text": [
      "\n",
      "[notice] A new release of pip available: 22.3.1 -> 23.1.2\n",
      "[notice] To update, run: python.exe -m pip install --upgrade pip\n"
     ]
    }
   ],
   "source": [
    "# installing the kaggle library\n",
    "!pip install kaggle"
   ]
  },
  {
   "cell_type": "code",
   "execution_count": 5,
   "id": "73a894ba",
   "metadata": {},
   "outputs": [
    {
     "name": "stderr",
     "output_type": "stream",
     "text": [
      "The syntax of the command is incorrect.\n",
      "'cp' is not recognized as an internal or external command,\n",
      "operable program or batch file.\n",
      "'chmod' is not recognized as an internal or external command,\n",
      "operable program or batch file.\n"
     ]
    }
   ],
   "source": []
  },
  {
   "cell_type": "code",
   "execution_count": null,
   "id": "36dbb5d8",
   "metadata": {},
   "outputs": [],
   "source": [
    "#Api to fetch dataset from kaggle\n"
   ]
  }
 ],
 "metadata": {
  "kernelspec": {
   "display_name": "Python 3 (ipykernel)",
   "language": "python",
   "name": "python3"
  },
  "language_info": {
   "codemirror_mode": {
    "name": "ipython",
    "version": 3
   },
   "file_extension": ".py",
   "mimetype": "text/x-python",
   "name": "python",
   "nbconvert_exporter": "python",
   "pygments_lexer": "ipython3",
   "version": "3.10.8"
  }
 },
 "nbformat": 4,
 "nbformat_minor": 5
}
